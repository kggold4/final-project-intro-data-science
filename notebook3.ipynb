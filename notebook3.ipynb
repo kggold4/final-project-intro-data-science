{
 "cells": [
  {
   "cell_type": "markdown",
   "metadata": {},
   "source": [
    "# Introduction to Data Science Course Final Project\n",
    "\n",
    "> by Kfir Goldfarb\n",
    "\n",
    "<a href=\"https://github.com/kggold4\"><img src=\"images/github.png\" width=\"25px\" height=\"25px\" align=\"left\"></a>\n",
    "<a href=\"https://www.linkedin.com/in/kfir-goldfarb/\"><img src=\"images/in.png\"  width=\"25px\" height=\"25px\" align=\"left\"></a>\n",
    "<a href=\"mailto:kfir.goldfarb@msmail.ariel.ac.il\"><img src=\"images/email.png\" width=\"25px\" height=\"25px\" align=\"left\"></a>\n",
    "<a href=\"https://www.youtube.com/channel/UCypEWlruyG_I5A48GqB5c6g\"><img src=\"images/youtube.png\" width=\"25px\" height=\"25px\" align=\"left\"></a>\n",
    "\n",
    "<br>\n",
    "\n",
    "# Jupyter Notebook Number 3\n",
    "<i>Machine Learning</i>\n",
    "<br>\n",
    "\n",
    "<img src=\"images/ml2images.jpg\" width=\"90%\" height=\"auto\" align=\"left\">"
   ]
  },
  {
   "cell_type": "markdown",
   "metadata": {},
   "source": [
    "# <i>Part 1 - Classification:</i>"
   ]
  },
  {
   "cell_type": "code",
   "execution_count": 1,
   "metadata": {},
   "outputs": [],
   "source": [
    "# libraries:\n",
    "import pandas as pd\n",
    "import numpy as np\n",
    "import matplotlib.pyplot as plt\n",
    "%matplotlib inline\n",
    "\n",
    "# sklearn\n",
    "from sklearn.model_selection import train_test_split\n",
    "from sklearn.neighbors import KNeighborsClassifier\n",
    "from sklearn.tree import DecisionTreeClassifier\n",
    "from sklearn.linear_model import LogisticRegression\n",
    "from sklearn.metrics import roc_curve, roc_auc_score\n",
    "from sklearn.metrics import classification_report, confusion_matrix, plot_confusion_matrix"
   ]
  },
  {
   "cell_type": "markdown",
   "metadata": {},
   "source": [
    "the dataset I'm using for the classification problem is from:\n",
    "https://www.kaggle.com/spscientist/students-performance-in-exams\n",
    "\n",
    "### this dataset deals with different grades of students according to 3 topics:\n",
    "\n",
    "1. math score\n",
    "2. reading score\n",
    "3. writing score\n",
    "\n",
    "### this information we have about a student is:\n",
    "\n",
    "1. gender\n",
    "2. race/ethnicity\n",
    "3. parental level of education\n",
    "4. lunch\n",
    "5. test preparation course\n",
    "\n",
    "# The goal of my machine learning model:\n",
    "\n",
    "After the data preparation, I want to take for each student the three scores: math score, reading score and writing score and merge them to one feature by the mean of the three, this feature will called average.\n",
    "After that process we have one feature called average and have a number value between 0 and 100, i want to classified the scores to two main classes:\n",
    "\n",
    "1. 1, if x >= 60 ('pass')\n",
    "2. 0, else ('fail')\n",
    "\n",
    "Now, the goal of the model by a given a data of a student is to predict what is the status of the student, if the studet is fail ('0') or pass ('1') in the tests score."
   ]
  },
  {
   "cell_type": "code",
   "execution_count": 2,
   "metadata": {},
   "outputs": [],
   "source": [
    "# import data:\n",
    "students = pd.read_csv('data/students.csv')"
   ]
  },
  {
   "cell_type": "markdown",
   "metadata": {},
   "source": [
    "## <i>Learning about the data:</i>"
   ]
  },
  {
   "cell_type": "code",
   "execution_count": 3,
   "metadata": {},
   "outputs": [
    {
     "data": {
      "text/html": [
       "<div>\n",
       "<style scoped>\n",
       "    .dataframe tbody tr th:only-of-type {\n",
       "        vertical-align: middle;\n",
       "    }\n",
       "\n",
       "    .dataframe tbody tr th {\n",
       "        vertical-align: top;\n",
       "    }\n",
       "\n",
       "    .dataframe thead th {\n",
       "        text-align: right;\n",
       "    }\n",
       "</style>\n",
       "<table border=\"1\" class=\"dataframe\">\n",
       "  <thead>\n",
       "    <tr style=\"text-align: right;\">\n",
       "      <th></th>\n",
       "      <th>gender</th>\n",
       "      <th>race/ethnicity</th>\n",
       "      <th>parental level of education</th>\n",
       "      <th>lunch</th>\n",
       "      <th>test preparation course</th>\n",
       "      <th>math score</th>\n",
       "      <th>reading score</th>\n",
       "      <th>writing score</th>\n",
       "    </tr>\n",
       "  </thead>\n",
       "  <tbody>\n",
       "    <tr>\n",
       "      <th>0</th>\n",
       "      <td>female</td>\n",
       "      <td>group B</td>\n",
       "      <td>bachelor's degree</td>\n",
       "      <td>standard</td>\n",
       "      <td>none</td>\n",
       "      <td>72</td>\n",
       "      <td>72</td>\n",
       "      <td>74</td>\n",
       "    </tr>\n",
       "    <tr>\n",
       "      <th>1</th>\n",
       "      <td>female</td>\n",
       "      <td>group C</td>\n",
       "      <td>some college</td>\n",
       "      <td>standard</td>\n",
       "      <td>completed</td>\n",
       "      <td>69</td>\n",
       "      <td>90</td>\n",
       "      <td>88</td>\n",
       "    </tr>\n",
       "    <tr>\n",
       "      <th>2</th>\n",
       "      <td>female</td>\n",
       "      <td>group B</td>\n",
       "      <td>master's degree</td>\n",
       "      <td>standard</td>\n",
       "      <td>none</td>\n",
       "      <td>90</td>\n",
       "      <td>95</td>\n",
       "      <td>93</td>\n",
       "    </tr>\n",
       "    <tr>\n",
       "      <th>3</th>\n",
       "      <td>male</td>\n",
       "      <td>group A</td>\n",
       "      <td>associate's degree</td>\n",
       "      <td>free/reduced</td>\n",
       "      <td>none</td>\n",
       "      <td>47</td>\n",
       "      <td>57</td>\n",
       "      <td>44</td>\n",
       "    </tr>\n",
       "    <tr>\n",
       "      <th>4</th>\n",
       "      <td>male</td>\n",
       "      <td>group C</td>\n",
       "      <td>some college</td>\n",
       "      <td>standard</td>\n",
       "      <td>none</td>\n",
       "      <td>76</td>\n",
       "      <td>78</td>\n",
       "      <td>75</td>\n",
       "    </tr>\n",
       "  </tbody>\n",
       "</table>\n",
       "</div>"
      ],
      "text/plain": [
       "   gender race/ethnicity parental level of education         lunch  \\\n",
       "0  female        group B           bachelor's degree      standard   \n",
       "1  female        group C                some college      standard   \n",
       "2  female        group B             master's degree      standard   \n",
       "3    male        group A          associate's degree  free/reduced   \n",
       "4    male        group C                some college      standard   \n",
       "\n",
       "  test preparation course  math score  reading score  writing score  \n",
       "0                    none          72             72             74  \n",
       "1               completed          69             90             88  \n",
       "2                    none          90             95             93  \n",
       "3                    none          47             57             44  \n",
       "4                    none          76             78             75  "
      ]
     },
     "execution_count": 3,
     "metadata": {},
     "output_type": "execute_result"
    }
   ],
   "source": [
    "# first five students:\n",
    "students.head()"
   ]
  },
  {
   "cell_type": "markdown",
   "metadata": {},
   "source": [
    "## <i>Dataset Features:</i>\n",
    "1. gender - the sex of the student (male or female)\n",
    "2. race/ethnicity - the race/ethnicity of the student (groups) - (details on the groups below)\n",
    "3. parental level of education - the parental level of education of the student (the parents of his) - (details on the groups below)\n",
    "4. lunch - if the student ate a lunch before the exams\n",
    "5. test preparation course - if the student take a test preparation course\n",
    "6. math score\n",
    "7. reading score\n",
    "8. writing score"
   ]
  },
  {
   "cell_type": "code",
   "execution_count": 4,
   "metadata": {},
   "outputs": [
    {
     "name": "stdout",
     "output_type": "stream",
     "text": [
      "<class 'pandas.core.frame.DataFrame'>\n",
      "RangeIndex: 1000 entries, 0 to 999\n",
      "Data columns (total 8 columns):\n",
      " #   Column                       Non-Null Count  Dtype \n",
      "---  ------                       --------------  ----- \n",
      " 0   gender                       1000 non-null   object\n",
      " 1   race/ethnicity               1000 non-null   object\n",
      " 2   parental level of education  1000 non-null   object\n",
      " 3   lunch                        1000 non-null   object\n",
      " 4   test preparation course      1000 non-null   object\n",
      " 5   math score                   1000 non-null   int64 \n",
      " 6   reading score                1000 non-null   int64 \n",
      " 7   writing score                1000 non-null   int64 \n",
      "dtypes: int64(3), object(5)\n",
      "memory usage: 62.6+ KB\n"
     ]
    }
   ],
   "source": [
    "# checking if the data contains null data objects:\n",
    "# and see data types\n",
    "students.info()\n",
    "\n",
    "# as we can see the data is clean of null data objects"
   ]
  },
  {
   "cell_type": "code",
   "execution_count": 5,
   "metadata": {},
   "outputs": [
    {
     "data": {
      "text/plain": [
       "gender                         0\n",
       "race/ethnicity                 0\n",
       "parental level of education    0\n",
       "lunch                          0\n",
       "test preparation course        0\n",
       "math score                     0\n",
       "reading score                  0\n",
       "writing score                  0\n",
       "dtype: int64"
      ]
     },
     "execution_count": 5,
     "metadata": {},
     "output_type": "execute_result"
    }
   ],
   "source": [
    "# another check for finding null objects\n",
    "students.isnull().sum()"
   ]
  },
  {
   "cell_type": "code",
   "execution_count": 6,
   "metadata": {},
   "outputs": [
    {
     "data": {
      "text/html": [
       "<div>\n",
       "<style scoped>\n",
       "    .dataframe tbody tr th:only-of-type {\n",
       "        vertical-align: middle;\n",
       "    }\n",
       "\n",
       "    .dataframe tbody tr th {\n",
       "        vertical-align: top;\n",
       "    }\n",
       "\n",
       "    .dataframe thead th {\n",
       "        text-align: right;\n",
       "    }\n",
       "</style>\n",
       "<table border=\"1\" class=\"dataframe\">\n",
       "  <thead>\n",
       "    <tr style=\"text-align: right;\">\n",
       "      <th></th>\n",
       "      <th>math score</th>\n",
       "      <th>reading score</th>\n",
       "      <th>writing score</th>\n",
       "    </tr>\n",
       "  </thead>\n",
       "  <tbody>\n",
       "    <tr>\n",
       "      <th>count</th>\n",
       "      <td>1000.00000</td>\n",
       "      <td>1000.000000</td>\n",
       "      <td>1000.000000</td>\n",
       "    </tr>\n",
       "    <tr>\n",
       "      <th>mean</th>\n",
       "      <td>66.08900</td>\n",
       "      <td>69.169000</td>\n",
       "      <td>68.054000</td>\n",
       "    </tr>\n",
       "    <tr>\n",
       "      <th>std</th>\n",
       "      <td>15.16308</td>\n",
       "      <td>14.600192</td>\n",
       "      <td>15.195657</td>\n",
       "    </tr>\n",
       "    <tr>\n",
       "      <th>min</th>\n",
       "      <td>0.00000</td>\n",
       "      <td>17.000000</td>\n",
       "      <td>10.000000</td>\n",
       "    </tr>\n",
       "    <tr>\n",
       "      <th>25%</th>\n",
       "      <td>57.00000</td>\n",
       "      <td>59.000000</td>\n",
       "      <td>57.750000</td>\n",
       "    </tr>\n",
       "    <tr>\n",
       "      <th>50%</th>\n",
       "      <td>66.00000</td>\n",
       "      <td>70.000000</td>\n",
       "      <td>69.000000</td>\n",
       "    </tr>\n",
       "    <tr>\n",
       "      <th>75%</th>\n",
       "      <td>77.00000</td>\n",
       "      <td>79.000000</td>\n",
       "      <td>79.000000</td>\n",
       "    </tr>\n",
       "    <tr>\n",
       "      <th>max</th>\n",
       "      <td>100.00000</td>\n",
       "      <td>100.000000</td>\n",
       "      <td>100.000000</td>\n",
       "    </tr>\n",
       "  </tbody>\n",
       "</table>\n",
       "</div>"
      ],
      "text/plain": [
       "       math score  reading score  writing score\n",
       "count  1000.00000    1000.000000    1000.000000\n",
       "mean     66.08900      69.169000      68.054000\n",
       "std      15.16308      14.600192      15.195657\n",
       "min       0.00000      17.000000      10.000000\n",
       "25%      57.00000      59.000000      57.750000\n",
       "50%      66.00000      70.000000      69.000000\n",
       "75%      77.00000      79.000000      79.000000\n",
       "max     100.00000     100.000000     100.000000"
      ]
     },
     "execution_count": 6,
     "metadata": {},
     "output_type": "execute_result"
    }
   ],
   "source": [
    "# seeing the students scores widely\n",
    "students.describe()"
   ]
  },
  {
   "cell_type": "code",
   "execution_count": 7,
   "metadata": {},
   "outputs": [
    {
     "data": {
      "text/html": [
       "<div>\n",
       "<style scoped>\n",
       "    .dataframe tbody tr th:only-of-type {\n",
       "        vertical-align: middle;\n",
       "    }\n",
       "\n",
       "    .dataframe tbody tr th {\n",
       "        vertical-align: top;\n",
       "    }\n",
       "\n",
       "    .dataframe thead th {\n",
       "        text-align: right;\n",
       "    }\n",
       "</style>\n",
       "<table border=\"1\" class=\"dataframe\">\n",
       "  <thead>\n",
       "    <tr style=\"text-align: right;\">\n",
       "      <th></th>\n",
       "      <th>gender</th>\n",
       "      <th>race/ethnicity</th>\n",
       "      <th>parental level of education</th>\n",
       "      <th>lunch</th>\n",
       "      <th>test preparation course</th>\n",
       "      <th>math score</th>\n",
       "      <th>reading score</th>\n",
       "      <th>writing score</th>\n",
       "      <th>average</th>\n",
       "    </tr>\n",
       "  </thead>\n",
       "  <tbody>\n",
       "    <tr>\n",
       "      <th>0</th>\n",
       "      <td>female</td>\n",
       "      <td>group B</td>\n",
       "      <td>bachelor's degree</td>\n",
       "      <td>standard</td>\n",
       "      <td>none</td>\n",
       "      <td>72</td>\n",
       "      <td>72</td>\n",
       "      <td>74</td>\n",
       "      <td>72.666667</td>\n",
       "    </tr>\n",
       "    <tr>\n",
       "      <th>1</th>\n",
       "      <td>female</td>\n",
       "      <td>group C</td>\n",
       "      <td>some college</td>\n",
       "      <td>standard</td>\n",
       "      <td>completed</td>\n",
       "      <td>69</td>\n",
       "      <td>90</td>\n",
       "      <td>88</td>\n",
       "      <td>82.333333</td>\n",
       "    </tr>\n",
       "    <tr>\n",
       "      <th>2</th>\n",
       "      <td>female</td>\n",
       "      <td>group B</td>\n",
       "      <td>master's degree</td>\n",
       "      <td>standard</td>\n",
       "      <td>none</td>\n",
       "      <td>90</td>\n",
       "      <td>95</td>\n",
       "      <td>93</td>\n",
       "      <td>92.666667</td>\n",
       "    </tr>\n",
       "    <tr>\n",
       "      <th>3</th>\n",
       "      <td>male</td>\n",
       "      <td>group A</td>\n",
       "      <td>associate's degree</td>\n",
       "      <td>free/reduced</td>\n",
       "      <td>none</td>\n",
       "      <td>47</td>\n",
       "      <td>57</td>\n",
       "      <td>44</td>\n",
       "      <td>49.333333</td>\n",
       "    </tr>\n",
       "    <tr>\n",
       "      <th>4</th>\n",
       "      <td>male</td>\n",
       "      <td>group C</td>\n",
       "      <td>some college</td>\n",
       "      <td>standard</td>\n",
       "      <td>none</td>\n",
       "      <td>76</td>\n",
       "      <td>78</td>\n",
       "      <td>75</td>\n",
       "      <td>76.333333</td>\n",
       "    </tr>\n",
       "  </tbody>\n",
       "</table>\n",
       "</div>"
      ],
      "text/plain": [
       "   gender race/ethnicity parental level of education         lunch  \\\n",
       "0  female        group B           bachelor's degree      standard   \n",
       "1  female        group C                some college      standard   \n",
       "2  female        group B             master's degree      standard   \n",
       "3    male        group A          associate's degree  free/reduced   \n",
       "4    male        group C                some college      standard   \n",
       "\n",
       "  test preparation course  math score  reading score  writing score    average  \n",
       "0                    none          72             72             74  72.666667  \n",
       "1               completed          69             90             88  82.333333  \n",
       "2                    none          90             95             93  92.666667  \n",
       "3                    none          47             57             44  49.333333  \n",
       "4                    none          76             78             75  76.333333  "
      ]
     },
     "execution_count": 7,
     "metadata": {},
     "output_type": "execute_result"
    }
   ],
   "source": [
    "# adding the average score feature for each student with the average of math, reading and writing score\n",
    "# the assign ,method is to change every average value in average target for each row\n",
    "students = students.assign(average= lambda x: ((x['math score'] + x['reading score'] + x['writing score']) / 3.0))\n",
    "students.head()"
   ]
  },
  {
   "cell_type": "code",
   "execution_count": 8,
   "metadata": {},
   "outputs": [
    {
     "data": {
      "image/png": "[encoded data removed]",
      "text/plain": [
       "<Figure size 576x432 with 1 Axes>"
      ]
     },
     "metadata": {
      "needs_background": "light"
     },
     "output_type": "display_data"
    }
   ],
   "source": [
    "# ploting a bar plot with grades by genders (means):\n",
    "\n",
    "# male will get a numpy array with the means of scores by male gender\n",
    "male = np.array(students.groupby('gender').mean())[1]\n",
    "\n",
    "# male will get a numpy array with the means of scores by female gender\n",
    "female = np.array(students.groupby('gender').mean())[0]\n",
    "\n",
    "# change the figure size of the bar plot\n",
    "plt.figure(figsize=(8,6))\n",
    "\n",
    "width = 0.36\n",
    "ind = np.arange(4)\n",
    "\n",
    "# ploting man scores means\n",
    "plt.bar(ind, male, width, label='Men')\n",
    "\n",
    "# ploting women scores means\n",
    "plt.bar(ind + width, female, width, label='Women')\n",
    "\n",
    "# limit the axis from 0 to 100\n",
    "plt.ylim(0,100)\n",
    "\n",
    "# y label\n",
    "plt.ylabel('Avg Grades')\n",
    "\n",
    "# plot title\n",
    "plt.title('Grade by Gender')\n",
    "\n",
    "# x ticks\n",
    "plt.xticks(ind + width / 2 ,('math score','reading score','writing score','average'))\n",
    "\n",
    "plt.legend()\n",
    "\n",
    "plt.show()"
   ]
  },
  {
   "cell_type": "code",
   "execution_count": 9,
   "metadata": {},
   "outputs": [],
   "source": [
    "# define a function that plot with a pie\n",
    "def print_pie(values, lables):\n",
    "    values = list(values)\n",
    "    \n",
    "    # get a objcet pie from matplotlib and a figure\n",
    "    fig1, ax1 = plt.subplots()\n",
    "\n",
    "    # set the size of the figure\n",
    "    fig1.set_figheight(7)\n",
    "    fig1.set_figwidth(7)\n",
    "\n",
    "    # plot the pie\n",
    "    # x - the parental level of education data\n",
    "    # autopct - show the percentages at only one decimal point\n",
    "    # shadow - show the shadow of the pie\n",
    "    # startangle - rotate the pie in 90 degrees\n",
    "    ax1.pie(values, labels=lables, autopct='%1.1f%%', shadow=True, startangle=90)\n",
    "\n",
    "    # equal aspect ratio ensures that pie is drawn as a circle\n",
    "    ax1.axis('equal')\n",
    "\n",
    "    plt.show()"
   ]
  },
  {
   "cell_type": "code",
   "execution_count": 10,
   "metadata": {},
   "outputs": [
    {
     "data": {
      "image/png": "[encoded data removed]",
      "text/plain": [
       "<Figure size 504x504 with 1 Axes>"
      ]
     },
     "metadata": {},
     "output_type": "display_data"
    }
   ],
   "source": [
    "# showing differents in parental level of education of the students in the dataset in a pie of matplotlib\n",
    "\n",
    "# get all the counts of the values in parental level of education feature\n",
    "values = students['parental level of education'].value_counts()\n",
    "\n",
    "# write all the type of values in parental level of education feature\n",
    "parents_education = ['some college', 'associate\\'s degree', 'high school',\n",
    "                     'some high school', 'bachelor\\'s degree', 'master\\'s degree']\n",
    "\n",
    "print_pie(values, parents_education)"
   ]
  },
  {
   "cell_type": "code",
   "execution_count": 11,
   "metadata": {},
   "outputs": [
    {
     "data": {
      "image/png": "[encoded data removed]",
      "text/plain": [
       "<Figure size 504x504 with 1 Axes>"
      ]
     },
     "metadata": {},
     "output_type": "display_data"
    }
   ],
   "source": [
    "# showing differents in parental level of education of the students in the dataset in a pie of matplotlib\n",
    "\n",
    "# get all the counts of the values in parental level of education feature\n",
    "values = list(students['race/ethnicity'].value_counts())\n",
    "\n",
    "# write all the type of values in parental level of education feature\n",
    "ethnicity = ['group C', 'group D', 'group B', 'group E', 'group A']\n",
    "\n",
    "print_pie(values, ethnicity)"
   ]
  },
  {
   "cell_type": "markdown",
   "metadata": {},
   "source": [
    "## <i>Preparing the data:</i>"
   ]
  },
  {
   "cell_type": "code",
   "execution_count": 12,
   "metadata": {},
   "outputs": [
    {
     "data": {
      "text/html": [
       "<div>\n",
       "<style scoped>\n",
       "    .dataframe tbody tr th:only-of-type {\n",
       "        vertical-align: middle;\n",
       "    }\n",
       "\n",
       "    .dataframe tbody tr th {\n",
       "        vertical-align: top;\n",
       "    }\n",
       "\n",
       "    .dataframe thead th {\n",
       "        text-align: right;\n",
       "    }\n",
       "</style>\n",
       "<table border=\"1\" class=\"dataframe\">\n",
       "  <thead>\n",
       "    <tr style=\"text-align: right;\">\n",
       "      <th></th>\n",
       "      <th>gender</th>\n",
       "      <th>race/ethnicity</th>\n",
       "      <th>parental level of education</th>\n",
       "      <th>lunch</th>\n",
       "      <th>test preparation course</th>\n",
       "      <th>math score</th>\n",
       "      <th>reading score</th>\n",
       "      <th>writing score</th>\n",
       "      <th>average</th>\n",
       "    </tr>\n",
       "  </thead>\n",
       "  <tbody>\n",
       "    <tr>\n",
       "      <th>0</th>\n",
       "      <td>0</td>\n",
       "      <td>group B</td>\n",
       "      <td>bachelor's degree</td>\n",
       "      <td>1</td>\n",
       "      <td>1</td>\n",
       "      <td>72</td>\n",
       "      <td>72</td>\n",
       "      <td>74</td>\n",
       "      <td>72.666667</td>\n",
       "    </tr>\n",
       "    <tr>\n",
       "      <th>1</th>\n",
       "      <td>0</td>\n",
       "      <td>group C</td>\n",
       "      <td>some college</td>\n",
       "      <td>1</td>\n",
       "      <td>0</td>\n",
       "      <td>69</td>\n",
       "      <td>90</td>\n",
       "      <td>88</td>\n",
       "      <td>82.333333</td>\n",
       "    </tr>\n",
       "    <tr>\n",
       "      <th>2</th>\n",
       "      <td>0</td>\n",
       "      <td>group B</td>\n",
       "      <td>master's degree</td>\n",
       "      <td>1</td>\n",
       "      <td>1</td>\n",
       "      <td>90</td>\n",
       "      <td>95</td>\n",
       "      <td>93</td>\n",
       "      <td>92.666667</td>\n",
       "    </tr>\n",
       "    <tr>\n",
       "      <th>3</th>\n",
       "      <td>1</td>\n",
       "      <td>group A</td>\n",
       "      <td>associate's degree</td>\n",
       "      <td>0</td>\n",
       "      <td>1</td>\n",
       "      <td>47</td>\n",
       "      <td>57</td>\n",
       "      <td>44</td>\n",
       "      <td>49.333333</td>\n",
       "    </tr>\n",
       "    <tr>\n",
       "      <th>4</th>\n",
       "      <td>1</td>\n",
       "      <td>group C</td>\n",
       "      <td>some college</td>\n",
       "      <td>1</td>\n",
       "      <td>1</td>\n",
       "      <td>76</td>\n",
       "      <td>78</td>\n",
       "      <td>75</td>\n",
       "      <td>76.333333</td>\n",
       "    </tr>\n",
       "  </tbody>\n",
       "</table>\n",
       "</div>"
      ],
      "text/plain": [
       "   gender race/ethnicity parental level of education  lunch  \\\n",
       "0       0        group B           bachelor's degree      1   \n",
       "1       0        group C                some college      1   \n",
       "2       0        group B             master's degree      1   \n",
       "3       1        group A          associate's degree      0   \n",
       "4       1        group C                some college      1   \n",
       "\n",
       "   test preparation course  math score  reading score  writing score  \\\n",
       "0                        1          72             72             74   \n",
       "1                        0          69             90             88   \n",
       "2                        1          90             95             93   \n",
       "3                        1          47             57             44   \n",
       "4                        1          76             78             75   \n",
       "\n",
       "     average  \n",
       "0  72.666667  \n",
       "1  82.333333  \n",
       "2  92.666667  \n",
       "3  49.333333  \n",
       "4  76.333333  "
      ]
     },
     "execution_count": 12,
     "metadata": {},
     "output_type": "execute_result"
    }
   ],
   "source": [
    "# for preparing all the binary values of text (string objects) in the data set:\n",
    "# I used the LabelEncoder from sklearn.preprocessing library,\n",
    "# that helping me to convert all the binary values of texetual data to a numbers\n",
    "from sklearn.preprocessing import LabelEncoder\n",
    "lc = LabelEncoder()\n",
    "\n",
    "# preparing the 'gender' feature to binary numbers (0 = female, 1 = male)\n",
    "students['gender'] = lc.fit_transform(students['gender'])\n",
    "\n",
    "# preparing the 'lunch' feature to binary numbers (0 = free/reduced\t, 1 = standard)\n",
    "students['lunch'] = lc.fit_transform(students['lunch'])\n",
    "\n",
    "# preparing the 'lunch' feature to binary numbers (0 = completed, 1 = none)\n",
    "students['test preparation course'] = lc.fit_transform(students['test preparation course'])\n",
    "\n",
    "# showing results\n",
    "students.head()"
   ]
  },
  {
   "cell_type": "code",
   "execution_count": 13,
   "metadata": {},
   "outputs": [],
   "source": [
    "# create dummies varables for 'race/ethnicity' feature:\n",
    "students = pd.get_dummies(students, columns=['race/ethnicity'])"
   ]
  },
  {
   "cell_type": "code",
   "execution_count": 14,
   "metadata": {},
   "outputs": [],
   "source": [
    "# create dummies varables for 'parental level of education' feature:\n",
    "students = pd.get_dummies(students, columns=['parental level of education'])"
   ]
  },
  {
   "cell_type": "code",
   "execution_count": 15,
   "metadata": {},
   "outputs": [],
   "source": [
    "# droping the math score, reading score and writing score features\n",
    "students.drop('math score', inplace=True, axis = 1)\n",
    "students.drop('reading score', inplace=True, axis = 1)\n",
    "students.drop('writing score', inplace=True, axis = 1)"
   ]
  },
  {
   "cell_type": "code",
   "execution_count": 16,
   "metadata": {},
   "outputs": [
    {
     "data": {
      "text/html": [
       "<div>\n",
       "<style scoped>\n",
       "    .dataframe tbody tr th:only-of-type {\n",
       "        vertical-align: middle;\n",
       "    }\n",
       "\n",
       "    .dataframe tbody tr th {\n",
       "        vertical-align: top;\n",
       "    }\n",
       "\n",
       "    .dataframe thead th {\n",
       "        text-align: right;\n",
       "    }\n",
       "</style>\n",
       "<table border=\"1\" class=\"dataframe\">\n",
       "  <thead>\n",
       "    <tr style=\"text-align: right;\">\n",
       "      <th></th>\n",
       "      <th>gender</th>\n",
       "      <th>lunch</th>\n",
       "      <th>test preparation course</th>\n",
       "      <th>average</th>\n",
       "      <th>race/ethnicity_group A</th>\n",
       "      <th>race/ethnicity_group B</th>\n",
       "      <th>race/ethnicity_group C</th>\n",
       "      <th>race/ethnicity_group D</th>\n",
       "      <th>race/ethnicity_group E</th>\n",
       "      <th>parental level of education_associate's degree</th>\n",
       "      <th>parental level of education_bachelor's degree</th>\n",
       "      <th>parental level of education_high school</th>\n",
       "      <th>parental level of education_master's degree</th>\n",
       "      <th>parental level of education_some college</th>\n",
       "      <th>parental level of education_some high school</th>\n",
       "    </tr>\n",
       "  </thead>\n",
       "  <tbody>\n",
       "    <tr>\n",
       "      <th>0</th>\n",
       "      <td>0</td>\n",
       "      <td>1</td>\n",
       "      <td>1</td>\n",
       "      <td>1</td>\n",
       "      <td>0</td>\n",
       "      <td>1</td>\n",
       "      <td>0</td>\n",
       "      <td>0</td>\n",
       "      <td>0</td>\n",
       "      <td>0</td>\n",
       "      <td>1</td>\n",
       "      <td>0</td>\n",
       "      <td>0</td>\n",
       "      <td>0</td>\n",
       "      <td>0</td>\n",
       "    </tr>\n",
       "    <tr>\n",
       "      <th>1</th>\n",
       "      <td>0</td>\n",
       "      <td>1</td>\n",
       "      <td>0</td>\n",
       "      <td>1</td>\n",
       "      <td>0</td>\n",
       "      <td>0</td>\n",
       "      <td>1</td>\n",
       "      <td>0</td>\n",
       "      <td>0</td>\n",
       "      <td>0</td>\n",
       "      <td>0</td>\n",
       "      <td>0</td>\n",
       "      <td>0</td>\n",
       "      <td>1</td>\n",
       "      <td>0</td>\n",
       "    </tr>\n",
       "    <tr>\n",
       "      <th>2</th>\n",
       "      <td>0</td>\n",
       "      <td>1</td>\n",
       "      <td>1</td>\n",
       "      <td>1</td>\n",
       "      <td>0</td>\n",
       "      <td>1</td>\n",
       "      <td>0</td>\n",
       "      <td>0</td>\n",
       "      <td>0</td>\n",
       "      <td>0</td>\n",
       "      <td>0</td>\n",
       "      <td>0</td>\n",
       "      <td>1</td>\n",
       "      <td>0</td>\n",
       "      <td>0</td>\n",
       "    </tr>\n",
       "    <tr>\n",
       "      <th>3</th>\n",
       "      <td>1</td>\n",
       "      <td>0</td>\n",
       "      <td>1</td>\n",
       "      <td>0</td>\n",
       "      <td>1</td>\n",
       "      <td>0</td>\n",
       "      <td>0</td>\n",
       "      <td>0</td>\n",
       "      <td>0</td>\n",
       "      <td>1</td>\n",
       "      <td>0</td>\n",
       "      <td>0</td>\n",
       "      <td>0</td>\n",
       "      <td>0</td>\n",
       "      <td>0</td>\n",
       "    </tr>\n",
       "    <tr>\n",
       "      <th>4</th>\n",
       "      <td>1</td>\n",
       "      <td>1</td>\n",
       "      <td>1</td>\n",
       "      <td>1</td>\n",
       "      <td>0</td>\n",
       "      <td>0</td>\n",
       "      <td>1</td>\n",
       "      <td>0</td>\n",
       "      <td>0</td>\n",
       "      <td>0</td>\n",
       "      <td>0</td>\n",
       "      <td>0</td>\n",
       "      <td>0</td>\n",
       "      <td>1</td>\n",
       "      <td>0</td>\n",
       "    </tr>\n",
       "    <tr>\n",
       "      <th>5</th>\n",
       "      <td>0</td>\n",
       "      <td>1</td>\n",
       "      <td>1</td>\n",
       "      <td>1</td>\n",
       "      <td>0</td>\n",
       "      <td>1</td>\n",
       "      <td>0</td>\n",
       "      <td>0</td>\n",
       "      <td>0</td>\n",
       "      <td>1</td>\n",
       "      <td>0</td>\n",
       "      <td>0</td>\n",
       "      <td>0</td>\n",
       "      <td>0</td>\n",
       "      <td>0</td>\n",
       "    </tr>\n",
       "    <tr>\n",
       "      <th>6</th>\n",
       "      <td>0</td>\n",
       "      <td>1</td>\n",
       "      <td>0</td>\n",
       "      <td>1</td>\n",
       "      <td>0</td>\n",
       "      <td>1</td>\n",
       "      <td>0</td>\n",
       "      <td>0</td>\n",
       "      <td>0</td>\n",
       "      <td>0</td>\n",
       "      <td>0</td>\n",
       "      <td>0</td>\n",
       "      <td>0</td>\n",
       "      <td>1</td>\n",
       "      <td>0</td>\n",
       "    </tr>\n",
       "    <tr>\n",
       "      <th>7</th>\n",
       "      <td>1</td>\n",
       "      <td>0</td>\n",
       "      <td>1</td>\n",
       "      <td>0</td>\n",
       "      <td>0</td>\n",
       "      <td>1</td>\n",
       "      <td>0</td>\n",
       "      <td>0</td>\n",
       "      <td>0</td>\n",
       "      <td>0</td>\n",
       "      <td>0</td>\n",
       "      <td>0</td>\n",
       "      <td>0</td>\n",
       "      <td>1</td>\n",
       "      <td>0</td>\n",
       "    </tr>\n",
       "    <tr>\n",
       "      <th>8</th>\n",
       "      <td>1</td>\n",
       "      <td>0</td>\n",
       "      <td>0</td>\n",
       "      <td>1</td>\n",
       "      <td>0</td>\n",
       "      <td>0</td>\n",
       "      <td>0</td>\n",
       "      <td>1</td>\n",
       "      <td>0</td>\n",
       "      <td>0</td>\n",
       "      <td>0</td>\n",
       "      <td>1</td>\n",
       "      <td>0</td>\n",
       "      <td>0</td>\n",
       "      <td>0</td>\n",
       "    </tr>\n",
       "    <tr>\n",
       "      <th>9</th>\n",
       "      <td>0</td>\n",
       "      <td>0</td>\n",
       "      <td>1</td>\n",
       "      <td>0</td>\n",
       "      <td>0</td>\n",
       "      <td>1</td>\n",
       "      <td>0</td>\n",
       "      <td>0</td>\n",
       "      <td>0</td>\n",
       "      <td>0</td>\n",
       "      <td>0</td>\n",
       "      <td>1</td>\n",
       "      <td>0</td>\n",
       "      <td>0</td>\n",
       "      <td>0</td>\n",
       "    </tr>\n",
       "  </tbody>\n",
       "</table>\n",
       "</div>"
      ],
      "text/plain": [
       "   gender  lunch  test preparation course  average  race/ethnicity_group A  \\\n",
       "0       0      1                        1        1                       0   \n",
       "1       0      1                        0        1                       0   \n",
       "2       0      1                        1        1                       0   \n",
       "3       1      0                        1        0                       1   \n",
       "4       1      1                        1        1                       0   \n",
       "5       0      1                        1        1                       0   \n",
       "6       0      1                        0        1                       0   \n",
       "7       1      0                        1        0                       0   \n",
       "8       1      0                        0        1                       0   \n",
       "9       0      0                        1        0                       0   \n",
       "\n",
       "   race/ethnicity_group B  race/ethnicity_group C  race/ethnicity_group D  \\\n",
       "0                       1                       0                       0   \n",
       "1                       0                       1                       0   \n",
       "2                       1                       0                       0   \n",
       "3                       0                       0                       0   \n",
       "4                       0                       1                       0   \n",
       "5                       1                       0                       0   \n",
       "6                       1                       0                       0   \n",
       "7                       1                       0                       0   \n",
       "8                       0                       0                       1   \n",
       "9                       1                       0                       0   \n",
       "\n",
       "   race/ethnicity_group E  parental level of education_associate's degree  \\\n",
       "0                       0                                               0   \n",
       "1                       0                                               0   \n",
       "2                       0                                               0   \n",
       "3                       0                                               1   \n",
       "4                       0                                               0   \n",
       "5                       0                                               1   \n",
       "6                       0                                               0   \n",
       "7                       0                                               0   \n",
       "8                       0                                               0   \n",
       "9                       0                                               0   \n",
       "\n",
       "   parental level of education_bachelor's degree  \\\n",
       "0                                              1   \n",
       "1                                              0   \n",
       "2                                              0   \n",
       "3                                              0   \n",
       "4                                              0   \n",
       "5                                              0   \n",
       "6                                              0   \n",
       "7                                              0   \n",
       "8                                              0   \n",
       "9                                              0   \n",
       "\n",
       "   parental level of education_high school  \\\n",
       "0                                        0   \n",
       "1                                        0   \n",
       "2                                        0   \n",
       "3                                        0   \n",
       "4                                        0   \n",
       "5                                        0   \n",
       "6                                        0   \n",
       "7                                        0   \n",
       "8                                        1   \n",
       "9                                        1   \n",
       "\n",
       "   parental level of education_master's degree  \\\n",
       "0                                            0   \n",
       "1                                            0   \n",
       "2                                            1   \n",
       "3                                            0   \n",
       "4                                            0   \n",
       "5                                            0   \n",
       "6                                            0   \n",
       "7                                            0   \n",
       "8                                            0   \n",
       "9                                            0   \n",
       "\n",
       "   parental level of education_some college  \\\n",
       "0                                         0   \n",
       "1                                         1   \n",
       "2                                         0   \n",
       "3                                         0   \n",
       "4                                         1   \n",
       "5                                         0   \n",
       "6                                         1   \n",
       "7                                         1   \n",
       "8                                         0   \n",
       "9                                         0   \n",
       "\n",
       "   parental level of education_some high school  \n",
       "0                                             0  \n",
       "1                                             0  \n",
       "2                                             0  \n",
       "3                                             0  \n",
       "4                                             0  \n",
       "5                                             0  \n",
       "6                                             0  \n",
       "7                                             0  \n",
       "8                                             0  \n",
       "9                                             0  "
      ]
     },
     "execution_count": 16,
     "metadata": {},
     "output_type": "execute_result"
    }
   ],
   "source": [
    "# classified the average score feature as: if x >= 60 - 1 ('pass'), else - 0 ('fail')\n",
    "students['average'] = students['average'].apply(lambda x: 1 if x >= 60 else 0)\n",
    "students.head(10)"
   ]
  },
  {
   "cell_type": "code",
   "execution_count": 17,
   "metadata": {},
   "outputs": [],
   "source": [
    "# create dummies varables for 'parental level of education' feature:\n",
    "# students = pd.get_dummies(students, columns=['average'])\n",
    "# students.head()"
   ]
  },
  {
   "cell_type": "markdown",
   "metadata": {},
   "source": [
    "### Separate data to training and testing sets"
   ]
  },
  {
   "cell_type": "code",
   "execution_count": 18,
   "metadata": {},
   "outputs": [],
   "source": [
    "feature_cols = ['gender','lunch','test preparation course','race/ethnicity_group A','race/ethnicity_group B',\n",
    "                'race/ethnicity_group C', 'race/ethnicity_group D', 'race/ethnicity_group E',\n",
    "                'parental level of education_associate\\'s degree', 'parental level of education_bachelor\\'s degree',\n",
    "                'parental level of education_high school', 'parental level of education_master\\'s degree',\n",
    "                'parental level of education_some college', 'parental level of education_some high school']\n",
    "X = students[feature_cols]\n",
    "y = students['average']\n",
    "\n",
    "X_train, X_test, y_train, y_test = train_test_split(X, y, random_state=4)"
   ]
  },
  {
   "cell_type": "markdown",
   "metadata": {},
   "source": [
    "#### Print Accuracy function:"
   ]
  },
  {
   "cell_type": "code",
   "execution_count": 19,
   "metadata": {},
   "outputs": [],
   "source": [
    "# function that print the accuracy\n",
    "def print_accuracy(clf, X_train, X_test, y_train, y_test):\n",
    "    # fit the train data to the model\n",
    "    clf.fit(X_train, y_train)\n",
    "\n",
    "    # get the pridictions of X_test\n",
    "    pridictions = clf.predict(X_test)\n",
    "\n",
    "    # get the accuracy of the model\n",
    "    accuracy = clf.score(X_test, y_test)\n",
    "\n",
    "    # print the accuracy\n",
    "    print('accuracy of the model is: {} %'.format(\"%.2f\" % (accuracy * 100)))"
   ]
  },
  {
   "cell_type": "markdown",
   "metadata": {},
   "source": [
    "### Using KNeighborsClassifier model\n",
    "#### Accuracy:"
   ]
  },
  {
   "cell_type": "code",
   "execution_count": 20,
   "metadata": {},
   "outputs": [
    {
     "name": "stdout",
     "output_type": "stream",
     "text": [
      "accuracy of the model is: 70.40 %\n"
     ]
    }
   ],
   "source": [
    "# get the classifier (found that 5 neighbors is the best predicter)\n",
    "nclf = KNeighborsClassifier(n_neighbors=5)\n",
    "\n",
    "# print accuracy\n",
    "print_accuracy(nclf, X_train, X_test, y_train, y_test)"
   ]
  },
  {
   "cell_type": "markdown",
   "metadata": {},
   "source": [
    "#### Plot Confusion Matrix function:"
   ]
  },
  {
   "cell_type": "code",
   "execution_count": 21,
   "metadata": {},
   "outputs": [],
   "source": [
    "# function of ploting the confusion_matrix\n",
    "def my_plot_confusion_matrix(clf, X_test, y_test):\n",
    "\n",
    "    # get the confusion_matrix for ploting\n",
    "    matrix = plot_confusion_matrix(clf, X_test, y_test, cmap=plt.cm.Blues)\n",
    "\n",
    "    # main title\n",
    "    matrix.ax_.set_title('Confusion matrix')\n",
    "\n",
    "    # x label\n",
    "    plt.xlabel('Predicted Label')\n",
    "\n",
    "    # y label\n",
    "    plt.ylabel('True label')\n",
    "\n",
    "    # size of the figure\n",
    "    plt.gcf().set_size_inches(10, 6)\n",
    "\n",
    "    # show plot\n",
    "    plt.show()"
   ]
  },
  {
   "cell_type": "markdown",
   "metadata": {},
   "source": [
    "#### Confusion matrix:"
   ]
  },
  {
   "cell_type": "code",
   "execution_count": 22,
   "metadata": {},
   "outputs": [
    {
     "data": {
      "image/png": "[encoded data removed]",
      "text/plain": [
       "<Figure size 720x432 with 2 Axes>"
      ]
     },
     "metadata": {
      "needs_background": "light"
     },
     "output_type": "display_data"
    }
   ],
   "source": [
    "# plot the confusion matrix using the my_plot_confusion_matrix function\n",
    "my_plot_confusion_matrix(nclf, X_test, y_test)"
   ]
  },
  {
   "cell_type": "markdown",
   "metadata": {},
   "source": [
    "### Using DecisionTreeClassifier model\n",
    "#### Accuracy:"
   ]
  },
  {
   "cell_type": "code",
   "execution_count": 23,
   "metadata": {},
   "outputs": [
    {
     "name": "stdout",
     "output_type": "stream",
     "text": [
      "accuracy of the model is: 71.60 %\n"
     ]
    }
   ],
   "source": [
    "# get the classifier \n",
    "dclf = DecisionTreeClassifier()\n",
    "\n",
    "# print accuracy\n",
    "print_accuracy(dclf, X_train, X_test, y_train, y_test)"
   ]
  },
  {
   "cell_type": "markdown",
   "metadata": {},
   "source": [
    "#### Confusion matrix:"
   ]
  },
  {
   "cell_type": "code",
   "execution_count": 24,
   "metadata": {},
   "outputs": [
    {
     "data": {
      "image/png": "[encoded data removed]",
      "text/plain": [
       "<Figure size 720x432 with 2 Axes>"
      ]
     },
     "metadata": {
      "needs_background": "light"
     },
     "output_type": "display_data"
    }
   ],
   "source": [
    "# plot the confusion matrix using the my_plot_confusion_matrix function\n",
    "my_plot_confusion_matrix(dclf, X_test, y_test)"
   ]
  },
  {
   "cell_type": "markdown",
   "metadata": {},
   "source": [
    "### Using LogisticRegression classifier model\n",
    "#### Accuracy:"
   ]
  },
  {
   "cell_type": "code",
   "execution_count": 25,
   "metadata": {},
   "outputs": [
    {
     "name": "stdout",
     "output_type": "stream",
     "text": [
      "accuracy of the model is: 77.60 %\n"
     ]
    }
   ],
   "source": [
    "# get the classifier \n",
    "lclf = LogisticRegression()\n",
    "\n",
    "# print accuracy\n",
    "print_accuracy(lclf, X_train, X_test, y_train, y_test)"
   ]
  },
  {
   "cell_type": "markdown",
   "metadata": {},
   "source": [
    "#### Confusion matrix:"
   ]
  },
  {
   "cell_type": "code",
   "execution_count": 26,
   "metadata": {},
   "outputs": [
    {
     "data": {
      "image/png": "[encoded data removed]",
      "text/plain": [
       "<Figure size 720x432 with 2 Axes>"
      ]
     },
     "metadata": {
      "needs_background": "light"
     },
     "output_type": "display_data"
    }
   ],
   "source": [
    "# plot the confusion matrix using the my_plot_confusion_matrix function\n",
    "my_plot_confusion_matrix(lclf, X_test, y_test)"
   ]
  },
  {
   "cell_type": "markdown",
   "metadata": {},
   "source": [
    "## ROC curve:\n",
    "### **What is ROC curve?**\n",
    "\n",
    "The **ROC curve** summarizes the prediction performance of a classification model at all classification thresholds. Particularly, the ROC curve plots the **False Positive Rate (FPR)** on the *X-axis* and the **True Positive Rate (TPR)** on the *Y-axis*.\n",
    "\n",
    "$\\text{TPR (Sensitivity)} = \\frac{TP}{TP + FN}$\n",
    "\n",
    "$\\text{FPR (1 - Specificity)} = \\frac{FP}{TN + FP}$\n",
    "\n",
    "### **Prediction probabilities**"
   ]
  },
  {
   "cell_type": "code",
   "execution_count": 27,
   "metadata": {},
   "outputs": [
    {
     "name": "stdout",
     "output_type": "stream",
     "text": [
      "Random (chance) Prediction: AUROC = 0.500\n",
      "KNeighborsClassifier: AUROC = 0.644\n",
      "DecisionTreeClassifier: AUROC = 0.690\n",
      "LogisticRegression: AUROC = 0.775\n"
     ]
    }
   ],
   "source": [
    "# Random (chance) Prediction in the ROC plot (the middle straight line)\n",
    "r_probs = [0 for _ in range(len(y_test))]\n",
    "\n",
    "# probabilities for KNeighborsClassifier\n",
    "nclf_probs = nclf.predict_proba(X_test)\n",
    "\n",
    "# probabilities for DecisionTreeClassifier\n",
    "dclf_probs = dclf.predict_proba(X_test)\n",
    "\n",
    "# probabilities for LogisticRegression\n",
    "lclf_probs = lclf.predict_proba(X_test)\n",
    "\n",
    "# for each probabilities for a classifier data change from nested list to one list\n",
    "nclf_probs = nclf_probs[:, 1]\n",
    "dclf_probs = dclf_probs[:, 1]\n",
    "lclf_probs = lclf_probs[:, 1]\n",
    "\n",
    "# ROC is the receiver operating characteristic AUROC is the area under the ROC curve\n",
    "# get accuracy for each classifier from the test data and the probabilities data\n",
    "r_auc = roc_auc_score(y_test, r_probs)\n",
    "nclf_auc = roc_auc_score(y_test, nclf_probs)\n",
    "dclf_auc = roc_auc_score(y_test, dclf_probs)\n",
    "lclf_auc = roc_auc_score(y_test, lclf_probs)\n",
    "\n",
    "# print to see the AUROC for each classifier\n",
    "print('Random (chance) Prediction: AUROC = %.3f' % (r_auc))\n",
    "print('KNeighborsClassifier: AUROC = %.3f' % (nclf_auc))\n",
    "print('DecisionTreeClassifier: AUROC = %.3f' % (dclf_auc))\n",
    "print('LogisticRegression: AUROC = %.3f' % (lclf_auc))"
   ]
  },
  {
   "cell_type": "code",
   "execution_count": 28,
   "metadata": {},
   "outputs": [],
   "source": [
    "# Calculate ROC curve\n",
    "# tpr = TP/(TP+FN) (Sensitivity)\n",
    "# fpr = FP/(TN+FP) (1 - Specificity)\n",
    "r_fpr, r_tpr, _ = roc_curve(y_test, r_probs)\n",
    "nclf_fpr, nclf_tpr, _ = roc_curve(y_test, nclf_probs)\n",
    "dclf_fpr, dclf_tpr, _ = roc_curve(y_test, dclf_probs)\n",
    "lclf_fpr, lclf_tpr, _ = roc_curve(y_test, lclf_probs)"
   ]
  },
  {
   "cell_type": "code",
   "execution_count": 29,
   "metadata": {},
   "outputs": [
    {
     "data": {
      "image/png": "[encoded data removed]",
      "text/plain": [
       "<Figure size 576x576 with 1 Axes>"
      ]
     },
     "metadata": {
      "needs_background": "light"
     },
     "output_type": "display_data"
    }
   ],
   "source": [
    "# set the size of the figure\n",
    "plt.figure(figsize=(8,8))\n",
    "\n",
    "# for each classifier plot the ROC curve\n",
    "plt.plot(r_fpr, r_tpr, linestyle='--', label='Random prediction (AUROC = %0.3f)' % r_auc)\n",
    "plt.plot(nclf_fpr, nclf_tpr, marker='.', label='KNeighborsClassifier (AUROC = %0.3f)' % nclf_auc)\n",
    "plt.plot(dclf_fpr, dclf_tpr, marker='.', label='DecisionTreeClassifier (AUROC = %0.3f)' % dclf_auc)\n",
    "plt.plot(lclf_fpr, lclf_tpr, marker='.', label='LogisticRegression (AUROC = %0.3f)' % lclf_auc)\n",
    "\n",
    "# Title\n",
    "plt.title('ROC Plot')\n",
    "\n",
    "# Axis labels\n",
    "plt.xlabel('False Positive Rate')\n",
    "plt.ylabel('True Positive Rate')\n",
    "\n",
    "# Show legend\n",
    "plt.legend()\n",
    "\n",
    "# Show plot\n",
    "plt.show()"
   ]
  },
  {
   "cell_type": "markdown",
   "metadata": {},
   "source": [
    "### <i>Classification Conclusion:</i> from the three classifiers algorithms - the logisitic regression have the most accuracy"
   ]
  },
  {
   "cell_type": "markdown",
   "metadata": {},
   "source": [
    "# <i>Part 2 - regression:</i>"
   ]
  },
  {
   "cell_type": "markdown",
   "metadata": {},
   "source": [
    "the dataset I'm using for the classification problem is from:\n",
    "https://www.kaggle.com/usgs/earthquake-database"
   ]
  },
  {
   "cell_type": "code",
   "execution_count": 30,
   "metadata": {},
   "outputs": [],
   "source": [
    "# import data:\n",
    "earthquakes = pd.read_csv('data/earthquakes.csv')"
   ]
  },
  {
   "cell_type": "code",
   "execution_count": 31,
   "metadata": {},
   "outputs": [
    {
     "data": {
      "text/html": [
       "<div>\n",
       "<style scoped>\n",
       "    .dataframe tbody tr th:only-of-type {\n",
       "        vertical-align: middle;\n",
       "    }\n",
       "\n",
       "    .dataframe tbody tr th {\n",
       "        vertical-align: top;\n",
       "    }\n",
       "\n",
       "    .dataframe thead th {\n",
       "        text-align: right;\n",
       "    }\n",
       "</style>\n",
       "<table border=\"1\" class=\"dataframe\">\n",
       "  <thead>\n",
       "    <tr style=\"text-align: right;\">\n",
       "      <th></th>\n",
       "      <th>Date</th>\n",
       "      <th>Time</th>\n",
       "      <th>Latitude</th>\n",
       "      <th>Longitude</th>\n",
       "      <th>Type</th>\n",
       "      <th>Depth</th>\n",
       "      <th>Depth Error</th>\n",
       "      <th>Depth Seismic Stations</th>\n",
       "      <th>Magnitude</th>\n",
       "      <th>Magnitude Type</th>\n",
       "      <th>...</th>\n",
       "      <th>Magnitude Seismic Stations</th>\n",
       "      <th>Azimuthal Gap</th>\n",
       "      <th>Horizontal Distance</th>\n",
       "      <th>Horizontal Error</th>\n",
       "      <th>Root Mean Square</th>\n",
       "      <th>ID</th>\n",
       "      <th>Source</th>\n",
       "      <th>Location Source</th>\n",
       "      <th>Magnitude Source</th>\n",
       "      <th>Status</th>\n",
       "    </tr>\n",
       "  </thead>\n",
       "  <tbody>\n",
       "    <tr>\n",
       "      <th>0</th>\n",
       "      <td>01/02/1965</td>\n",
       "      <td>13:44:18</td>\n",
       "      <td>19.246</td>\n",
       "      <td>145.616</td>\n",
       "      <td>Earthquake</td>\n",
       "      <td>131.6</td>\n",
       "      <td>NaN</td>\n",
       "      <td>NaN</td>\n",
       "      <td>6.0</td>\n",
       "      <td>MW</td>\n",
       "      <td>...</td>\n",
       "      <td>NaN</td>\n",
       "      <td>NaN</td>\n",
       "      <td>NaN</td>\n",
       "      <td>NaN</td>\n",
       "      <td>NaN</td>\n",
       "      <td>ISCGEM860706</td>\n",
       "      <td>ISCGEM</td>\n",
       "      <td>ISCGEM</td>\n",
       "      <td>ISCGEM</td>\n",
       "      <td>Automatic</td>\n",
       "    </tr>\n",
       "    <tr>\n",
       "      <th>1</th>\n",
       "      <td>01/04/1965</td>\n",
       "      <td>11:29:49</td>\n",
       "      <td>1.863</td>\n",
       "      <td>127.352</td>\n",
       "      <td>Earthquake</td>\n",
       "      <td>80.0</td>\n",
       "      <td>NaN</td>\n",
       "      <td>NaN</td>\n",
       "      <td>5.8</td>\n",
       "      <td>MW</td>\n",
       "      <td>...</td>\n",
       "      <td>NaN</td>\n",
       "      <td>NaN</td>\n",
       "      <td>NaN</td>\n",
       "      <td>NaN</td>\n",
       "      <td>NaN</td>\n",
       "      <td>ISCGEM860737</td>\n",
       "      <td>ISCGEM</td>\n",
       "      <td>ISCGEM</td>\n",
       "      <td>ISCGEM</td>\n",
       "      <td>Automatic</td>\n",
       "    </tr>\n",
       "    <tr>\n",
       "      <th>2</th>\n",
       "      <td>01/05/1965</td>\n",
       "      <td>18:05:58</td>\n",
       "      <td>-20.579</td>\n",
       "      <td>-173.972</td>\n",
       "      <td>Earthquake</td>\n",
       "      <td>20.0</td>\n",
       "      <td>NaN</td>\n",
       "      <td>NaN</td>\n",
       "      <td>6.2</td>\n",
       "      <td>MW</td>\n",
       "      <td>...</td>\n",
       "      <td>NaN</td>\n",
       "      <td>NaN</td>\n",
       "      <td>NaN</td>\n",
       "      <td>NaN</td>\n",
       "      <td>NaN</td>\n",
       "      <td>ISCGEM860762</td>\n",
       "      <td>ISCGEM</td>\n",
       "      <td>ISCGEM</td>\n",
       "      <td>ISCGEM</td>\n",
       "      <td>Automatic</td>\n",
       "    </tr>\n",
       "    <tr>\n",
       "      <th>3</th>\n",
       "      <td>01/08/1965</td>\n",
       "      <td>18:49:43</td>\n",
       "      <td>-59.076</td>\n",
       "      <td>-23.557</td>\n",
       "      <td>Earthquake</td>\n",
       "      <td>15.0</td>\n",
       "      <td>NaN</td>\n",
       "      <td>NaN</td>\n",
       "      <td>5.8</td>\n",
       "      <td>MW</td>\n",
       "      <td>...</td>\n",
       "      <td>NaN</td>\n",
       "      <td>NaN</td>\n",
       "      <td>NaN</td>\n",
       "      <td>NaN</td>\n",
       "      <td>NaN</td>\n",
       "      <td>ISCGEM860856</td>\n",
       "      <td>ISCGEM</td>\n",
       "      <td>ISCGEM</td>\n",
       "      <td>ISCGEM</td>\n",
       "      <td>Automatic</td>\n",
       "    </tr>\n",
       "    <tr>\n",
       "      <th>4</th>\n",
       "      <td>01/09/1965</td>\n",
       "      <td>13:32:50</td>\n",
       "      <td>11.938</td>\n",
       "      <td>126.427</td>\n",
       "      <td>Earthquake</td>\n",
       "      <td>15.0</td>\n",
       "      <td>NaN</td>\n",
       "      <td>NaN</td>\n",
       "      <td>5.8</td>\n",
       "      <td>MW</td>\n",
       "      <td>...</td>\n",
       "      <td>NaN</td>\n",
       "      <td>NaN</td>\n",
       "      <td>NaN</td>\n",
       "      <td>NaN</td>\n",
       "      <td>NaN</td>\n",
       "      <td>ISCGEM860890</td>\n",
       "      <td>ISCGEM</td>\n",
       "      <td>ISCGEM</td>\n",
       "      <td>ISCGEM</td>\n",
       "      <td>Automatic</td>\n",
       "    </tr>\n",
       "  </tbody>\n",
       "</table>\n",
       "<p>5 rows × 21 columns</p>\n",
       "</div>"
      ],
      "text/plain": [
       "         Date      Time  Latitude  Longitude        Type  Depth  Depth Error  \\\n",
       "0  01/02/1965  13:44:18    19.246    145.616  Earthquake  131.6          NaN   \n",
       "1  01/04/1965  11:29:49     1.863    127.352  Earthquake   80.0          NaN   \n",
       "2  01/05/1965  18:05:58   -20.579   -173.972  Earthquake   20.0          NaN   \n",
       "3  01/08/1965  18:49:43   -59.076    -23.557  Earthquake   15.0          NaN   \n",
       "4  01/09/1965  13:32:50    11.938    126.427  Earthquake   15.0          NaN   \n",
       "\n",
       "   Depth Seismic Stations  Magnitude Magnitude Type  ...  \\\n",
       "0                     NaN        6.0             MW  ...   \n",
       "1                     NaN        5.8             MW  ...   \n",
       "2                     NaN        6.2             MW  ...   \n",
       "3                     NaN        5.8             MW  ...   \n",
       "4                     NaN        5.8             MW  ...   \n",
       "\n",
       "   Magnitude Seismic Stations  Azimuthal Gap  Horizontal Distance  \\\n",
       "0                         NaN            NaN                  NaN   \n",
       "1                         NaN            NaN                  NaN   \n",
       "2                         NaN            NaN                  NaN   \n",
       "3                         NaN            NaN                  NaN   \n",
       "4                         NaN            NaN                  NaN   \n",
       "\n",
       "   Horizontal Error  Root Mean Square            ID  Source Location Source  \\\n",
       "0               NaN               NaN  ISCGEM860706  ISCGEM          ISCGEM   \n",
       "1               NaN               NaN  ISCGEM860737  ISCGEM          ISCGEM   \n",
       "2               NaN               NaN  ISCGEM860762  ISCGEM          ISCGEM   \n",
       "3               NaN               NaN  ISCGEM860856  ISCGEM          ISCGEM   \n",
       "4               NaN               NaN  ISCGEM860890  ISCGEM          ISCGEM   \n",
       "\n",
       "  Magnitude Source     Status  \n",
       "0           ISCGEM  Automatic  \n",
       "1           ISCGEM  Automatic  \n",
       "2           ISCGEM  Automatic  \n",
       "3           ISCGEM  Automatic  \n",
       "4           ISCGEM  Automatic  \n",
       "\n",
       "[5 rows x 21 columns]"
      ]
     },
     "execution_count": 31,
     "metadata": {},
     "output_type": "execute_result"
    }
   ],
   "source": [
    "# first five earthquakes:\n",
    "earthquakes.head()"
   ]
  },
  {
   "cell_type": "markdown",
   "metadata": {},
   "source": [
    "## <i>Dataset Features:</i>\n",
    "1. Date - date of the earthquake\n",
    "2. Time - time of the earthquake\n",
    "3. Latitude - latitude of the earthquake\n",
    "4. Longitude - longitude of the earthquake\n",
    "5. Type - type of the earthquake\n",
    "6. Depth - depth of the earthquake\n",
    "7. Depth Error - depth error of the earthquake\n",
    "8. Depth Seismic Stations - depth Seismic Stations of the earthquake (another way to express a depth of an earthquake)\n",
    "9. Magnitude - earthquake magnitude\n",
    "10. Magnitude Type - magnitude type can be based on any of the following: - ML: Local (Richter) magnitude - MS: surface wave magnitude\n",
    "11. Magnitude Seismic Stations - magnitude seismic stations of the earthquake (another way to express a magnitude of an earthquake)\n",
    "12. Azimuthal Gap\n",
    "13. Horizontal Distance - horizontal distance of the earthquake\n",
    "14. Horizontal Error - horizontal error of the earthquake\n",
    "15. Root Mean Square - root mean square of the earthquake\n",
    "16. ID - unique id for each earthquake\n",
    "17. Source - \n",
    "18. Location Source\n",
    "19. Magnitude Source\n",
    "20. Status\n",
    "\n",
    "# The goal of my machine learning model:\n",
    "\n",
    "After the data preparation, I want by regression algorithm to **predict the magnitude** of an earthquake by other earthquake features data"
   ]
  },
  {
   "cell_type": "markdown",
   "metadata": {},
   "source": [
    "## <i>Preparing the data:</i>"
   ]
  },
  {
   "cell_type": "code",
   "execution_count": 32,
   "metadata": {},
   "outputs": [
    {
     "name": "stdout",
     "output_type": "stream",
     "text": [
      "(23412, 21)\n"
     ]
    }
   ],
   "source": [
    "# First print the dataset shape\n",
    "print(earthquakes.shape)"
   ]
  },
  {
   "cell_type": "code",
   "execution_count": 33,
   "metadata": {},
   "outputs": [],
   "source": [
    "# First, I assuming that the date and the time of the earthquake does not affect earthquake data\n",
    "# and that because the porpuse of the model is to predict the magnitude earthquake by the technical data of the earthquake\n",
    "# so fisrt let's clean from the data set the date and time features:\n",
    "earthquakes.drop('Date', inplace=True, axis=1)\n",
    "earthquakes.drop('Time', inplace=True, axis=1)"
   ]
  },
  {
   "cell_type": "code",
   "execution_count": 34,
   "metadata": {},
   "outputs": [
    {
     "data": {
      "text/plain": [
       "0"
      ]
     },
     "execution_count": 34,
     "metadata": {},
     "output_type": "execute_result"
    }
   ],
   "source": [
    "# Searching for null objects in Latitude feature:\n",
    "# as we can see the data of Latitude feature do not contains null objects\n",
    "earthquakes['Latitude'].isna().sum()"
   ]
  },
  {
   "cell_type": "code",
   "execution_count": 35,
   "metadata": {},
   "outputs": [
    {
     "data": {
      "text/plain": [
       "0"
      ]
     },
     "execution_count": 35,
     "metadata": {},
     "output_type": "execute_result"
    }
   ],
   "source": [
    "# Searching for null objects in Longitude feature:\n",
    "# as we can see the data of Longitude feature do not contains null objects\n",
    "earthquakes['Longitude'].isna().sum()"
   ]
  },
  {
   "cell_type": "code",
   "execution_count": 36,
   "metadata": {},
   "outputs": [
    {
     "name": "stdout",
     "output_type": "stream",
     "text": [
      "['Earthquake' 'Nuclear Explosion' 'Explosion' 'Rock Burst']\n",
      "Earthquake           23232\n",
      "Nuclear Explosion      175\n",
      "Explosion                4\n",
      "Rock Burst               1\n",
      "Name: Type, dtype: int64\n"
     ]
    }
   ],
   "source": [
    "# See type of values in Type feature:\n",
    "print(earthquakes['Type'].unique())\n",
    "\n",
    "# As we can see the Type features contains 4 types\n",
    "print(earthquakes['Type'].value_counts())\n",
    "\n",
    "# From counting how much types of data there is in Type feature we can see that:\n",
    "# there is 23232 Earthquake\n",
    "# there is only 175 Nuclear Explosion\n",
    "# there is only 4 Explosion\n",
    "# there is only 1 Rock Burst"
   ]
  },
  {
   "cell_type": "code",
   "execution_count": 37,
   "metadata": {},
   "outputs": [],
   "source": [
    "# Because Earthquake is the most common value in the Type feature,\n",
    "# and the other values are minimal and have less then 1% from the Type data:\n",
    "# I assuming that all the Type data of Type feature is only Earthquake and that why i delete this feature from the dataset:\n",
    "earthquakes.drop('Type', inplace=True, axis=1)"
   ]
  },
  {
   "cell_type": "code",
   "execution_count": 38,
   "metadata": {},
   "outputs": [
    {
     "data": {
      "text/plain": [
       "0"
      ]
     },
     "execution_count": 38,
     "metadata": {},
     "output_type": "execute_result"
    }
   ],
   "source": [
    "# Searching for null objects in Depth feature:\n",
    "# as we can see the data of Depth feature do not contains null objects\n",
    "earthquakes['Depth'].isna().sum()"
   ]
  },
  {
   "cell_type": "code",
   "execution_count": 39,
   "metadata": {},
   "outputs": [
    {
     "data": {
      "text/plain": [
       "18951"
      ]
     },
     "execution_count": 39,
     "metadata": {},
     "output_type": "execute_result"
    }
   ],
   "source": [
    "# Searching for null objects in Depth Error feature:\n",
    "earthquakes['Depth Error'].isna().sum()"
   ]
  },
  {
   "cell_type": "code",
   "execution_count": 40,
   "metadata": {},
   "outputs": [],
   "source": [
    "# As we can see in Depth Error feature we have 18951 null objects from 23232 rows\n",
    "# I assuming that the data of Depth Error is critical,\n",
    "# and that wy I remain the feature but change each Null object to value of 0\n",
    "earthquakes['Depth Error'].fillna(0, inplace=True)"
   ]
  },
  {
   "cell_type": "code",
   "execution_count": 41,
   "metadata": {},
   "outputs": [
    {
     "data": {
      "text/plain": [
       "16315"
      ]
     },
     "execution_count": 41,
     "metadata": {},
     "output_type": "execute_result"
    }
   ],
   "source": [
    "# Searching for null objects in Depth Seismic Stations feature:\n",
    "earthquakes['Depth Seismic Stations'].isna().sum()"
   ]
  },
  {
   "cell_type": "code",
   "execution_count": 42,
   "metadata": {},
   "outputs": [],
   "source": [
    "# As we can see in Depth Error feature we have 16315 null objects from 23232 rows\n",
    "# I assuming that the data of Depth Seismic Stations is critical,\n",
    "# and that wy I remain the feature but change each Null object to value of 0\n",
    "earthquakes['Depth Seismic Stations'].fillna(0, inplace=True)"
   ]
  },
  {
   "cell_type": "code",
   "execution_count": 43,
   "metadata": {},
   "outputs": [
    {
     "data": {
      "text/plain": [
       "0"
      ]
     },
     "execution_count": 43,
     "metadata": {},
     "output_type": "execute_result"
    }
   ],
   "source": [
    "# Searching for null objects in Magnitude feature:\n",
    "# as we can see the data of Depth feature do not contains null objects\n",
    "earthquakes['Magnitude'].isna().sum()"
   ]
  },
  {
   "cell_type": "code",
   "execution_count": 44,
   "metadata": {},
   "outputs": [
    {
     "data": {
      "text/plain": [
       "3"
      ]
     },
     "execution_count": 44,
     "metadata": {},
     "output_type": "execute_result"
    }
   ],
   "source": [
    "# Searching for null objects in Magnitude feature:\n",
    "earthquakes['Magnitude Type'].isna().sum()"
   ]
  },
  {
   "cell_type": "code",
   "execution_count": 45,
   "metadata": {},
   "outputs": [
    {
     "name": "stdout",
     "output_type": "stream",
     "text": [
      "['MW' 'ML' 'MH' 'MS' 'MB' 'MWC' 'MD' nan 'MWB' 'MWW' 'MWR']\n",
      "MW     7722\n",
      "MWC    5669\n",
      "MB     3761\n",
      "MWB    2458\n",
      "MWW    1983\n",
      "MS     1702\n",
      "ML       77\n",
      "MWR      26\n",
      "MD        6\n",
      "MH        5\n",
      "Name: Magnitude Type, dtype: int64\n"
     ]
    }
   ],
   "source": [
    "# See type of values in Magnitude Type feature:\n",
    "print(earthquakes['Magnitude Type'].unique())\n",
    "\n",
    "# As we can see the Magnitude Type features contains 10 types\n",
    "print(earthquakes['Magnitude Type'].value_counts())"
   ]
  },
  {
   "cell_type": "code",
   "execution_count": 46,
   "metadata": {},
   "outputs": [
    {
     "data": {
      "text/html": [
       "<div>\n",
       "<style scoped>\n",
       "    .dataframe tbody tr th:only-of-type {\n",
       "        vertical-align: middle;\n",
       "    }\n",
       "\n",
       "    .dataframe tbody tr th {\n",
       "        vertical-align: top;\n",
       "    }\n",
       "\n",
       "    .dataframe thead th {\n",
       "        text-align: right;\n",
       "    }\n",
       "</style>\n",
       "<table border=\"1\" class=\"dataframe\">\n",
       "  <thead>\n",
       "    <tr style=\"text-align: right;\">\n",
       "      <th></th>\n",
       "      <th>Latitude</th>\n",
       "      <th>Longitude</th>\n",
       "      <th>Depth</th>\n",
       "      <th>Depth Error</th>\n",
       "      <th>Depth Seismic Stations</th>\n",
       "      <th>Magnitude</th>\n",
       "      <th>Magnitude Error</th>\n",
       "      <th>Magnitude Seismic Stations</th>\n",
       "      <th>Azimuthal Gap</th>\n",
       "      <th>Horizontal Distance</th>\n",
       "      <th>Horizontal Error</th>\n",
       "      <th>Root Mean Square</th>\n",
       "    </tr>\n",
       "    <tr>\n",
       "      <th>Magnitude Type</th>\n",
       "      <th></th>\n",
       "      <th></th>\n",
       "      <th></th>\n",
       "      <th></th>\n",
       "      <th></th>\n",
       "      <th></th>\n",
       "      <th></th>\n",
       "      <th></th>\n",
       "      <th></th>\n",
       "      <th></th>\n",
       "      <th></th>\n",
       "      <th></th>\n",
       "    </tr>\n",
       "  </thead>\n",
       "  <tbody>\n",
       "    <tr>\n",
       "      <th>MB</th>\n",
       "      <td>3.536511</td>\n",
       "      <td>58.882509</td>\n",
       "      <td>81.579365</td>\n",
       "      <td>0.936134</td>\n",
       "      <td>24.343526</td>\n",
       "      <td>5.682957</td>\n",
       "      <td>0.064515</td>\n",
       "      <td>65.461718</td>\n",
       "      <td>59.799810</td>\n",
       "      <td>2.446970</td>\n",
       "      <td>6.954286</td>\n",
       "      <td>0.989051</td>\n",
       "    </tr>\n",
       "    <tr>\n",
       "      <th>MD</th>\n",
       "      <td>45.023194</td>\n",
       "      <td>-122.511639</td>\n",
       "      <td>21.670000</td>\n",
       "      <td>1.026667</td>\n",
       "      <td>101.333333</td>\n",
       "      <td>5.966667</td>\n",
       "      <td>0.040000</td>\n",
       "      <td>2.500000</td>\n",
       "      <td>83.666667</td>\n",
       "      <td>0.107498</td>\n",
       "      <td>0.509833</td>\n",
       "      <td>0.198333</td>\n",
       "    </tr>\n",
       "    <tr>\n",
       "      <th>MH</th>\n",
       "      <td>37.576500</td>\n",
       "      <td>-121.740900</td>\n",
       "      <td>8.074600</td>\n",
       "      <td>2.402000</td>\n",
       "      <td>36.600000</td>\n",
       "      <td>6.540000</td>\n",
       "      <td>NaN</td>\n",
       "      <td>0.000000</td>\n",
       "      <td>237.500000</td>\n",
       "      <td>0.443102</td>\n",
       "      <td>0.756667</td>\n",
       "      <td>0.113800</td>\n",
       "    </tr>\n",
       "    <tr>\n",
       "      <th>ML</th>\n",
       "      <td>39.231389</td>\n",
       "      <td>-119.764454</td>\n",
       "      <td>14.158273</td>\n",
       "      <td>8.594987</td>\n",
       "      <td>29.077922</td>\n",
       "      <td>5.814675</td>\n",
       "      <td>0.199750</td>\n",
       "      <td>12.826087</td>\n",
       "      <td>164.814571</td>\n",
       "      <td>0.514458</td>\n",
       "      <td>24.961864</td>\n",
       "      <td>0.463379</td>\n",
       "    </tr>\n",
       "    <tr>\n",
       "      <th>MS</th>\n",
       "      <td>0.398422</td>\n",
       "      <td>36.233651</td>\n",
       "      <td>30.142226</td>\n",
       "      <td>0.319624</td>\n",
       "      <td>3.252644</td>\n",
       "      <td>5.994360</td>\n",
       "      <td>NaN</td>\n",
       "      <td>12.567663</td>\n",
       "      <td>39.894118</td>\n",
       "      <td>NaN</td>\n",
       "      <td>0.366667</td>\n",
       "      <td>1.105132</td>\n",
       "    </tr>\n",
       "    <tr>\n",
       "      <th>MW</th>\n",
       "      <td>3.282243</td>\n",
       "      <td>38.656543</td>\n",
       "      <td>77.034037</td>\n",
       "      <td>0.793447</td>\n",
       "      <td>0.392515</td>\n",
       "      <td>5.933794</td>\n",
       "      <td>0.288000</td>\n",
       "      <td>2.804878</td>\n",
       "      <td>150.716279</td>\n",
       "      <td>0.510877</td>\n",
       "      <td>1.435667</td>\n",
       "      <td>1.088288</td>\n",
       "    </tr>\n",
       "    <tr>\n",
       "      <th>MWB</th>\n",
       "      <td>0.108245</td>\n",
       "      <td>35.876112</td>\n",
       "      <td>76.989829</td>\n",
       "      <td>1.073637</td>\n",
       "      <td>211.888934</td>\n",
       "      <td>5.907282</td>\n",
       "      <td>0.059476</td>\n",
       "      <td>33.470199</td>\n",
       "      <td>43.169508</td>\n",
       "      <td>6.865027</td>\n",
       "      <td>8.593396</td>\n",
       "      <td>0.984419</td>\n",
       "    </tr>\n",
       "    <tr>\n",
       "      <th>MWC</th>\n",
       "      <td>-0.880013</td>\n",
       "      <td>33.406893</td>\n",
       "      <td>66.808213</td>\n",
       "      <td>0.945916</td>\n",
       "      <td>174.656730</td>\n",
       "      <td>5.858176</td>\n",
       "      <td>NaN</td>\n",
       "      <td>9.400000</td>\n",
       "      <td>44.682402</td>\n",
       "      <td>8.727652</td>\n",
       "      <td>8.554000</td>\n",
       "      <td>1.012103</td>\n",
       "    </tr>\n",
       "    <tr>\n",
       "      <th>MWR</th>\n",
       "      <td>-0.263177</td>\n",
       "      <td>-4.895242</td>\n",
       "      <td>22.445385</td>\n",
       "      <td>1.903846</td>\n",
       "      <td>142.615385</td>\n",
       "      <td>5.630769</td>\n",
       "      <td>0.063714</td>\n",
       "      <td>31.166667</td>\n",
       "      <td>64.396000</td>\n",
       "      <td>1.054385</td>\n",
       "      <td>4.872727</td>\n",
       "      <td>0.938182</td>\n",
       "    </tr>\n",
       "    <tr>\n",
       "      <th>MWW</th>\n",
       "      <td>0.565066</td>\n",
       "      <td>40.297076</td>\n",
       "      <td>67.568545</td>\n",
       "      <td>1.690166</td>\n",
       "      <td>169.665154</td>\n",
       "      <td>6.008674</td>\n",
       "      <td>NaN</td>\n",
       "      <td>35.000000</td>\n",
       "      <td>32.596837</td>\n",
       "      <td>3.568843</td>\n",
       "      <td>6.671027</td>\n",
       "      <td>0.962075</td>\n",
       "    </tr>\n",
       "  </tbody>\n",
       "</table>\n",
       "</div>"
      ],
      "text/plain": [
       "                 Latitude   Longitude      Depth  Depth Error  \\\n",
       "Magnitude Type                                                  \n",
       "MB               3.536511   58.882509  81.579365     0.936134   \n",
       "MD              45.023194 -122.511639  21.670000     1.026667   \n",
       "MH              37.576500 -121.740900   8.074600     2.402000   \n",
       "ML              39.231389 -119.764454  14.158273     8.594987   \n",
       "MS               0.398422   36.233651  30.142226     0.319624   \n",
       "MW               3.282243   38.656543  77.034037     0.793447   \n",
       "MWB              0.108245   35.876112  76.989829     1.073637   \n",
       "MWC             -0.880013   33.406893  66.808213     0.945916   \n",
       "MWR             -0.263177   -4.895242  22.445385     1.903846   \n",
       "MWW              0.565066   40.297076  67.568545     1.690166   \n",
       "\n",
       "                Depth Seismic Stations  Magnitude  Magnitude Error  \\\n",
       "Magnitude Type                                                       \n",
       "MB                           24.343526   5.682957         0.064515   \n",
       "MD                          101.333333   5.966667         0.040000   \n",
       "MH                           36.600000   6.540000              NaN   \n",
       "ML                           29.077922   5.814675         0.199750   \n",
       "MS                            3.252644   5.994360              NaN   \n",
       "MW                            0.392515   5.933794         0.288000   \n",
       "MWB                         211.888934   5.907282         0.059476   \n",
       "MWC                         174.656730   5.858176              NaN   \n",
       "MWR                         142.615385   5.630769         0.063714   \n",
       "MWW                         169.665154   6.008674              NaN   \n",
       "\n",
       "                Magnitude Seismic Stations  Azimuthal Gap  \\\n",
       "Magnitude Type                                              \n",
       "MB                               65.461718      59.799810   \n",
       "MD                                2.500000      83.666667   \n",
       "MH                                0.000000     237.500000   \n",
       "ML                               12.826087     164.814571   \n",
       "MS                               12.567663      39.894118   \n",
       "MW                                2.804878     150.716279   \n",
       "MWB                              33.470199      43.169508   \n",
       "MWC                               9.400000      44.682402   \n",
       "MWR                              31.166667      64.396000   \n",
       "MWW                              35.000000      32.596837   \n",
       "\n",
       "                Horizontal Distance  Horizontal Error  Root Mean Square  \n",
       "Magnitude Type                                                           \n",
       "MB                         2.446970          6.954286          0.989051  \n",
       "MD                         0.107498          0.509833          0.198333  \n",
       "MH                         0.443102          0.756667          0.113800  \n",
       "ML                         0.514458         24.961864          0.463379  \n",
       "MS                              NaN          0.366667          1.105132  \n",
       "MW                         0.510877          1.435667          1.088288  \n",
       "MWB                        6.865027          8.593396          0.984419  \n",
       "MWC                        8.727652          8.554000          1.012103  \n",
       "MWR                        1.054385          4.872727          0.938182  \n",
       "MWW                        3.568843          6.671027          0.962075  "
      ]
     },
     "execution_count": 46,
     "metadata": {},
     "output_type": "execute_result"
    }
   ],
   "source": [
    "# check if there a connection between Magnitude Type to Magnitude features:\n",
    "earthquakes.groupby('Magnitude Type').mean()"
   ]
  },
  {
   "cell_type": "code",
   "execution_count": 47,
   "metadata": {},
   "outputs": [],
   "source": [
    "# as we can see the mean of Magnitude feature groupby Magnitude Types have no influence to each other,\n",
    "# and because the purpose of the model is to predict the Magnitude value, the type is not helping me,\n",
    "# and that why I decided to remove Magnitude Type feature\n",
    "earthquakes.drop('Magnitude Type', inplace=True, axis=1)"
   ]
  },
  {
   "cell_type": "code",
   "execution_count": 48,
   "metadata": {},
   "outputs": [
    {
     "data": {
      "text/plain": [
       "23085"
      ]
     },
     "execution_count": 48,
     "metadata": {},
     "output_type": "execute_result"
    }
   ],
   "source": [
    "# Searching for null objects in Magnitude feature:\n",
    "earthquakes['Magnitude Error'].isna().sum()"
   ]
  },
  {
   "cell_type": "code",
   "execution_count": 49,
   "metadata": {},
   "outputs": [],
   "source": [
    "# as we can see there is 23085 null objects in Magnitude Error feature from 23232 rows,\n",
    "# so this leave us with 23232 - 23085 = 147 not null objcets,\n",
    "# this data is so minimal and tiny that I decided to remove Magnitude Error feature\n",
    "earthquakes.drop('Magnitude Error', inplace=True, axis=1)"
   ]
  },
  {
   "cell_type": "code",
   "execution_count": 50,
   "metadata": {},
   "outputs": [
    {
     "data": {
      "text/plain": [
       "20848"
      ]
     },
     "execution_count": 50,
     "metadata": {},
     "output_type": "execute_result"
    }
   ],
   "source": [
    "# Searching for null objects in Magnitude Seismic Stations feature:\n",
    "earthquakes['Magnitude Seismic Stations'].isna().sum()"
   ]
  },
  {
   "cell_type": "code",
   "execution_count": 51,
   "metadata": {},
   "outputs": [],
   "source": [
    "# as we can see there is 20848 null objects in Magnitude Seismic Stations feature from 23232 rows,\n",
    "# so this leave us with 23232 - 20848 = 2384 not null objcets,\n",
    "# this data is so minimal and tiny that I decided to remove  Magnitude Seismic Stations feature\n",
    "earthquakes.drop('Magnitude Seismic Stations', inplace=True, axis=1)"
   ]
  },
  {
   "cell_type": "code",
   "execution_count": 52,
   "metadata": {},
   "outputs": [
    {
     "data": {
      "text/plain": [
       "16113"
      ]
     },
     "execution_count": 52,
     "metadata": {},
     "output_type": "execute_result"
    }
   ],
   "source": [
    "# Searching for null objects in Azimuthal Gap feature:\n",
    "earthquakes['Azimuthal Gap'].isna().sum()"
   ]
  },
  {
   "cell_type": "code",
   "execution_count": 53,
   "metadata": {},
   "outputs": [],
   "source": [
    "# As we can see in Azimuthal Gap feature we have 16113 null objects from 23232 rows\n",
    "# I assuming that the data of Azimuthal Gap is critical,\n",
    "# and that wy I remain the feature but change each Null object to value of 0\n",
    "earthquakes['Azimuthal Gap'].fillna(0, inplace=True)"
   ]
  },
  {
   "cell_type": "code",
   "execution_count": 54,
   "metadata": {},
   "outputs": [
    {
     "data": {
      "text/plain": [
       "21808"
      ]
     },
     "execution_count": 54,
     "metadata": {},
     "output_type": "execute_result"
    }
   ],
   "source": [
    "# Searching for null objects in Horizontal Distance feature:\n",
    "earthquakes['Horizontal Distance'].isna().sum()"
   ]
  },
  {
   "cell_type": "code",
   "execution_count": 55,
   "metadata": {},
   "outputs": [],
   "source": [
    "# As we can see in Horizontal Distance feature we have 21808 null objects from 23232 rows\n",
    "# I assuming that the data of Horizontal Distance is critical,\n",
    "# and that wy I remain the feature but change each Null object to value of 0\n",
    "earthquakes['Horizontal Distance'].fillna(0, inplace=True)"
   ]
  },
  {
   "cell_type": "code",
   "execution_count": 56,
   "metadata": {},
   "outputs": [
    {
     "data": {
      "text/plain": [
       "22256"
      ]
     },
     "execution_count": 56,
     "metadata": {},
     "output_type": "execute_result"
    }
   ],
   "source": [
    "# Searching for null objects in Horizontal Error feature:\n",
    "earthquakes['Horizontal Error'].isna().sum()"
   ]
  },
  {
   "cell_type": "code",
   "execution_count": 57,
   "metadata": {},
   "outputs": [],
   "source": [
    "# as we can see there is 22256 null objects in Horizontal Error feature from 23232 rows,\n",
    "# so this leave us with 23232 - 22256 = 976 not null objcets,\n",
    "# this data is so minimal and tiny that I decided to remove Horizontal Error feature\n",
    "earthquakes.drop('Horizontal Error', inplace=True, axis=1)"
   ]
  },
  {
   "cell_type": "code",
   "execution_count": 58,
   "metadata": {},
   "outputs": [
    {
     "data": {
      "text/plain": [
       "6060"
      ]
     },
     "execution_count": 58,
     "metadata": {},
     "output_type": "execute_result"
    }
   ],
   "source": [
    "# Searching for null objects in Root Mean Square feature:\n",
    "earthquakes['Root Mean Square'].isna().sum()"
   ]
  },
  {
   "cell_type": "code",
   "execution_count": 59,
   "metadata": {},
   "outputs": [],
   "source": [
    "# As we can see in Root Mean Square feature we have 6060 null objects from 23232 rows\n",
    "# I assuming that the data of Root Mean Square is critical,\n",
    "# and that wy I remain the feature but change each Null object to value of 0\n",
    "earthquakes['Root Mean Square'].fillna(0, inplace=True)"
   ]
  },
  {
   "cell_type": "code",
   "execution_count": 60,
   "metadata": {},
   "outputs": [],
   "source": [
    "# Assumming ID feature is useless for the prediction I decided to remove him:\n",
    "earthquakes.drop('ID', inplace=True, axis=1)"
   ]
  },
  {
   "cell_type": "code",
   "execution_count": 61,
   "metadata": {},
   "outputs": [],
   "source": [
    "# Checking values of Source, Location Source and Magnitude Source features\n",
    "# from my personal examination I see that the Source, Location Source and Magnitude Source features values are almost the same\n",
    "# and that why I decidet to delete Location Source and Magnitude Source features and only use with Source feature\n",
    "earthquakes.drop('Location Source', inplace=True, axis=1)\n",
    "earthquakes.drop('Magnitude Source', inplace=True, axis=1)"
   ]
  },
  {
   "cell_type": "code",
   "execution_count": 62,
   "metadata": {},
   "outputs": [
    {
     "name": "stdout",
     "output_type": "stream",
     "text": [
      "['ISCGEM' 'ISCGEMSUP' 'OFFICIAL' 'CI' 'US' 'NC' 'GCMT' 'UW' 'ATLAS' 'NN'\n",
      " 'SE' 'AK' 'PR']\n"
     ]
    }
   ],
   "source": [
    "# as we can see the Source features have 13 different values\n",
    "print(earthquakes['Source'].unique())\n",
    "\n",
    "# I assume the Source feature values are critical data and that why I choose to change the data do a dummie variables\n",
    "# create dummies varables for 'Source' feature:\n",
    "earthquakes = pd.get_dummies(earthquakes, columns=['Source'])"
   ]
  },
  {
   "cell_type": "code",
   "execution_count": 63,
   "metadata": {},
   "outputs": [
    {
     "data": {
      "text/plain": [
       "0"
      ]
     },
     "execution_count": 63,
     "metadata": {},
     "output_type": "execute_result"
    }
   ],
   "source": [
    "# Searching for null objects in Magnitude feature:\n",
    "# as we can see the data of Depth feature do not contains null objects\n",
    "earthquakes['Status'].isna().sum()"
   ]
  },
  {
   "cell_type": "code",
   "execution_count": 64,
   "metadata": {},
   "outputs": [
    {
     "name": "stdout",
     "output_type": "stream",
     "text": [
      "['Automatic' 'Reviewed']\n"
     ]
    }
   ],
   "source": [
    "# as we can see the Status features have 2 different values\n",
    "print(earthquakes['Status'].unique())\n",
    "\n",
    "# and because the Status feature have only two values, I decided to change the values to binary representation\n",
    "# Automatic = 1\n",
    "# Reviewed = 0\n",
    "earthquakes['Status'] = earthquakes['Status'].apply(lambda x: 1 if x == 'Automatic' else 0)"
   ]
  },
  {
   "cell_type": "code",
   "execution_count": 65,
   "metadata": {},
   "outputs": [
    {
     "data": {
      "text/plain": [
       "Latitude                  0\n",
       "Longitude                 0\n",
       "Depth                     0\n",
       "Depth Error               0\n",
       "Depth Seismic Stations    0\n",
       "Magnitude                 0\n",
       "Azimuthal Gap             0\n",
       "Horizontal Distance       0\n",
       "Root Mean Square          0\n",
       "Status                    0\n",
       "Source_AK                 0\n",
       "Source_ATLAS              0\n",
       "Source_CI                 0\n",
       "Source_GCMT               0\n",
       "Source_ISCGEM             0\n",
       "Source_ISCGEMSUP          0\n",
       "Source_NC                 0\n",
       "Source_NN                 0\n",
       "Source_OFFICIAL           0\n",
       "Source_PR                 0\n",
       "Source_SE                 0\n",
       "Source_US                 0\n",
       "Source_UW                 0\n",
       "dtype: int64"
      ]
     },
     "execution_count": 65,
     "metadata": {},
     "output_type": "execute_result"
    }
   ],
   "source": [
    "# at last after cleaning all the null objcets, check if I miss some null objcets in any of the features in the dataset\n",
    "# and as we can see there no null objcets any more in our dataset\n",
    "earthquakes.isna().sum()"
   ]
  },
  {
   "cell_type": "code",
   "execution_count": 66,
   "metadata": {},
   "outputs": [
    {
     "name": "stdout",
     "output_type": "stream",
     "text": [
      "<class 'pandas.core.frame.DataFrame'>\n",
      "RangeIndex: 23412 entries, 0 to 23411\n",
      "Data columns (total 23 columns):\n",
      " #   Column                  Non-Null Count  Dtype  \n",
      "---  ------                  --------------  -----  \n",
      " 0   Latitude                23412 non-null  float64\n",
      " 1   Longitude               23412 non-null  float64\n",
      " 2   Depth                   23412 non-null  float64\n",
      " 3   Depth Error             23412 non-null  float64\n",
      " 4   Depth Seismic Stations  23412 non-null  float64\n",
      " 5   Magnitude               23412 non-null  float64\n",
      " 6   Azimuthal Gap           23412 non-null  float64\n",
      " 7   Horizontal Distance     23412 non-null  float64\n",
      " 8   Root Mean Square        23412 non-null  float64\n",
      " 9   Status                  23412 non-null  int64  \n",
      " 10  Source_AK               23412 non-null  uint8  \n",
      " 11  Source_ATLAS            23412 non-null  uint8  \n",
      " 12  Source_CI               23412 non-null  uint8  \n",
      " 13  Source_GCMT             23412 non-null  uint8  \n",
      " 14  Source_ISCGEM           23412 non-null  uint8  \n",
      " 15  Source_ISCGEMSUP        23412 non-null  uint8  \n",
      " 16  Source_NC               23412 non-null  uint8  \n",
      " 17  Source_NN               23412 non-null  uint8  \n",
      " 18  Source_OFFICIAL         23412 non-null  uint8  \n",
      " 19  Source_PR               23412 non-null  uint8  \n",
      " 20  Source_SE               23412 non-null  uint8  \n",
      " 21  Source_US               23412 non-null  uint8  \n",
      " 22  Source_UW               23412 non-null  uint8  \n",
      "dtypes: float64(9), int64(1), uint8(13)\n",
      "memory usage: 2.1 MB\n"
     ]
    }
   ],
   "source": [
    "# Also we can see that all our data is float or int data types\n",
    "earthquakes.info()"
   ]
  },
  {
   "cell_type": "code",
   "execution_count": 72,
   "metadata": {},
   "outputs": [
    {
     "data": {
      "text/html": [
       "<div>\n",
       "<style scoped>\n",
       "    .dataframe tbody tr th:only-of-type {\n",
       "        vertical-align: middle;\n",
       "    }\n",
       "\n",
       "    .dataframe tbody tr th {\n",
       "        vertical-align: top;\n",
       "    }\n",
       "\n",
       "    .dataframe thead th {\n",
       "        text-align: right;\n",
       "    }\n",
       "</style>\n",
       "<table border=\"1\" class=\"dataframe\">\n",
       "  <thead>\n",
       "    <tr style=\"text-align: right;\">\n",
       "      <th></th>\n",
       "      <th>Latitude</th>\n",
       "      <th>Longitude</th>\n",
       "      <th>Depth</th>\n",
       "      <th>Depth Error</th>\n",
       "      <th>Depth Seismic Stations</th>\n",
       "      <th>Magnitude</th>\n",
       "      <th>Azimuthal Gap</th>\n",
       "      <th>Horizontal Distance</th>\n",
       "      <th>Root Mean Square</th>\n",
       "      <th>Status</th>\n",
       "      <th>...</th>\n",
       "      <th>Source_GCMT</th>\n",
       "      <th>Source_ISCGEM</th>\n",
       "      <th>Source_ISCGEMSUP</th>\n",
       "      <th>Source_NC</th>\n",
       "      <th>Source_NN</th>\n",
       "      <th>Source_OFFICIAL</th>\n",
       "      <th>Source_PR</th>\n",
       "      <th>Source_SE</th>\n",
       "      <th>Source_US</th>\n",
       "      <th>Source_UW</th>\n",
       "    </tr>\n",
       "  </thead>\n",
       "  <tbody>\n",
       "    <tr>\n",
       "      <th>count</th>\n",
       "      <td>23412.000000</td>\n",
       "      <td>23412.000000</td>\n",
       "      <td>23412.000000</td>\n",
       "      <td>23412.000000</td>\n",
       "      <td>23412.000000</td>\n",
       "      <td>23412.000000</td>\n",
       "      <td>23412.000000</td>\n",
       "      <td>23412.000000</td>\n",
       "      <td>23412.000000</td>\n",
       "      <td>23412.000000</td>\n",
       "      <td>...</td>\n",
       "      <td>23412.000000</td>\n",
       "      <td>23412.000000</td>\n",
       "      <td>23412.000000</td>\n",
       "      <td>23412.000000</td>\n",
       "      <td>23412.000000</td>\n",
       "      <td>23412.000000</td>\n",
       "      <td>23412.000000</td>\n",
       "      <td>23412.000000</td>\n",
       "      <td>23412.000000</td>\n",
       "      <td>23412.000000</td>\n",
       "    </tr>\n",
       "    <tr>\n",
       "      <th>mean</th>\n",
       "      <td>1.679033</td>\n",
       "      <td>39.639961</td>\n",
       "      <td>70.767911</td>\n",
       "      <td>0.951405</td>\n",
       "      <td>83.472535</td>\n",
       "      <td>5.882531</td>\n",
       "      <td>13.768564</td>\n",
       "      <td>0.273545</td>\n",
       "      <td>0.758045</td>\n",
       "      <td>0.112720</td>\n",
       "      <td>...</td>\n",
       "      <td>0.002349</td>\n",
       "      <td>0.105074</td>\n",
       "      <td>0.005126</td>\n",
       "      <td>0.002178</td>\n",
       "      <td>0.000171</td>\n",
       "      <td>0.000342</td>\n",
       "      <td>0.000043</td>\n",
       "      <td>0.000043</td>\n",
       "      <td>0.881172</td>\n",
       "      <td>0.000256</td>\n",
       "    </tr>\n",
       "    <tr>\n",
       "      <th>std</th>\n",
       "      <td>30.113183</td>\n",
       "      <td>125.511959</td>\n",
       "      <td>122.651898</td>\n",
       "      <td>2.893677</td>\n",
       "      <td>154.877281</td>\n",
       "      <td>0.423066</td>\n",
       "      <td>27.213184</td>\n",
       "      <td>1.731258</td>\n",
       "      <td>0.476487</td>\n",
       "      <td>0.316257</td>\n",
       "      <td>...</td>\n",
       "      <td>0.048413</td>\n",
       "      <td>0.306656</td>\n",
       "      <td>0.071411</td>\n",
       "      <td>0.046623</td>\n",
       "      <td>0.013070</td>\n",
       "      <td>0.018483</td>\n",
       "      <td>0.006536</td>\n",
       "      <td>0.006536</td>\n",
       "      <td>0.323593</td>\n",
       "      <td>0.016007</td>\n",
       "    </tr>\n",
       "    <tr>\n",
       "      <th>min</th>\n",
       "      <td>-77.080000</td>\n",
       "      <td>-179.997000</td>\n",
       "      <td>-1.100000</td>\n",
       "      <td>0.000000</td>\n",
       "      <td>0.000000</td>\n",
       "      <td>5.500000</td>\n",
       "      <td>0.000000</td>\n",
       "      <td>0.000000</td>\n",
       "      <td>0.000000</td>\n",
       "      <td>0.000000</td>\n",
       "      <td>...</td>\n",
       "      <td>0.000000</td>\n",
       "      <td>0.000000</td>\n",
       "      <td>0.000000</td>\n",
       "      <td>0.000000</td>\n",
       "      <td>0.000000</td>\n",
       "      <td>0.000000</td>\n",
       "      <td>0.000000</td>\n",
       "      <td>0.000000</td>\n",
       "      <td>0.000000</td>\n",
       "      <td>0.000000</td>\n",
       "    </tr>\n",
       "    <tr>\n",
       "      <th>25%</th>\n",
       "      <td>-18.653000</td>\n",
       "      <td>-76.349750</td>\n",
       "      <td>14.522500</td>\n",
       "      <td>0.000000</td>\n",
       "      <td>0.000000</td>\n",
       "      <td>5.600000</td>\n",
       "      <td>0.000000</td>\n",
       "      <td>0.000000</td>\n",
       "      <td>0.000000</td>\n",
       "      <td>0.000000</td>\n",
       "      <td>...</td>\n",
       "      <td>0.000000</td>\n",
       "      <td>0.000000</td>\n",
       "      <td>0.000000</td>\n",
       "      <td>0.000000</td>\n",
       "      <td>0.000000</td>\n",
       "      <td>0.000000</td>\n",
       "      <td>0.000000</td>\n",
       "      <td>0.000000</td>\n",
       "      <td>1.000000</td>\n",
       "      <td>0.000000</td>\n",
       "    </tr>\n",
       "    <tr>\n",
       "      <th>50%</th>\n",
       "      <td>-3.568500</td>\n",
       "      <td>103.982000</td>\n",
       "      <td>33.000000</td>\n",
       "      <td>0.000000</td>\n",
       "      <td>0.000000</td>\n",
       "      <td>5.700000</td>\n",
       "      <td>0.000000</td>\n",
       "      <td>0.000000</td>\n",
       "      <td>0.930000</td>\n",
       "      <td>0.000000</td>\n",
       "      <td>...</td>\n",
       "      <td>0.000000</td>\n",
       "      <td>0.000000</td>\n",
       "      <td>0.000000</td>\n",
       "      <td>0.000000</td>\n",
       "      <td>0.000000</td>\n",
       "      <td>0.000000</td>\n",
       "      <td>0.000000</td>\n",
       "      <td>0.000000</td>\n",
       "      <td>1.000000</td>\n",
       "      <td>0.000000</td>\n",
       "    </tr>\n",
       "    <tr>\n",
       "      <th>75%</th>\n",
       "      <td>26.190750</td>\n",
       "      <td>145.026250</td>\n",
       "      <td>54.000000</td>\n",
       "      <td>0.000000</td>\n",
       "      <td>115.000000</td>\n",
       "      <td>6.000000</td>\n",
       "      <td>22.000000</td>\n",
       "      <td>0.000000</td>\n",
       "      <td>1.100000</td>\n",
       "      <td>0.000000</td>\n",
       "      <td>...</td>\n",
       "      <td>0.000000</td>\n",
       "      <td>0.000000</td>\n",
       "      <td>0.000000</td>\n",
       "      <td>0.000000</td>\n",
       "      <td>0.000000</td>\n",
       "      <td>0.000000</td>\n",
       "      <td>0.000000</td>\n",
       "      <td>0.000000</td>\n",
       "      <td>1.000000</td>\n",
       "      <td>0.000000</td>\n",
       "    </tr>\n",
       "    <tr>\n",
       "      <th>max</th>\n",
       "      <td>86.005000</td>\n",
       "      <td>179.998000</td>\n",
       "      <td>700.000000</td>\n",
       "      <td>91.295000</td>\n",
       "      <td>934.000000</td>\n",
       "      <td>9.100000</td>\n",
       "      <td>360.000000</td>\n",
       "      <td>37.874000</td>\n",
       "      <td>3.440000</td>\n",
       "      <td>1.000000</td>\n",
       "      <td>...</td>\n",
       "      <td>1.000000</td>\n",
       "      <td>1.000000</td>\n",
       "      <td>1.000000</td>\n",
       "      <td>1.000000</td>\n",
       "      <td>1.000000</td>\n",
       "      <td>1.000000</td>\n",
       "      <td>1.000000</td>\n",
       "      <td>1.000000</td>\n",
       "      <td>1.000000</td>\n",
       "      <td>1.000000</td>\n",
       "    </tr>\n",
       "  </tbody>\n",
       "</table>\n",
       "<p>8 rows × 23 columns</p>\n",
       "</div>"
      ],
      "text/plain": [
       "           Latitude     Longitude         Depth   Depth Error  \\\n",
       "count  23412.000000  23412.000000  23412.000000  23412.000000   \n",
       "mean       1.679033     39.639961     70.767911      0.951405   \n",
       "std       30.113183    125.511959    122.651898      2.893677   \n",
       "min      -77.080000   -179.997000     -1.100000      0.000000   \n",
       "25%      -18.653000    -76.349750     14.522500      0.000000   \n",
       "50%       -3.568500    103.982000     33.000000      0.000000   \n",
       "75%       26.190750    145.026250     54.000000      0.000000   \n",
       "max       86.005000    179.998000    700.000000     91.295000   \n",
       "\n",
       "       Depth Seismic Stations     Magnitude  Azimuthal Gap  \\\n",
       "count            23412.000000  23412.000000   23412.000000   \n",
       "mean                83.472535      5.882531      13.768564   \n",
       "std                154.877281      0.423066      27.213184   \n",
       "min                  0.000000      5.500000       0.000000   \n",
       "25%                  0.000000      5.600000       0.000000   \n",
       "50%                  0.000000      5.700000       0.000000   \n",
       "75%                115.000000      6.000000      22.000000   \n",
       "max                934.000000      9.100000     360.000000   \n",
       "\n",
       "       Horizontal Distance  Root Mean Square        Status  ...   Source_GCMT  \\\n",
       "count         23412.000000      23412.000000  23412.000000  ...  23412.000000   \n",
       "mean              0.273545          0.758045      0.112720  ...      0.002349   \n",
       "std               1.731258          0.476487      0.316257  ...      0.048413   \n",
       "min               0.000000          0.000000      0.000000  ...      0.000000   \n",
       "25%               0.000000          0.000000      0.000000  ...      0.000000   \n",
       "50%               0.000000          0.930000      0.000000  ...      0.000000   \n",
       "75%               0.000000          1.100000      0.000000  ...      0.000000   \n",
       "max              37.874000          3.440000      1.000000  ...      1.000000   \n",
       "\n",
       "       Source_ISCGEM  Source_ISCGEMSUP     Source_NC     Source_NN  \\\n",
       "count   23412.000000      23412.000000  23412.000000  23412.000000   \n",
       "mean        0.105074          0.005126      0.002178      0.000171   \n",
       "std         0.306656          0.071411      0.046623      0.013070   \n",
       "min         0.000000          0.000000      0.000000      0.000000   \n",
       "25%         0.000000          0.000000      0.000000      0.000000   \n",
       "50%         0.000000          0.000000      0.000000      0.000000   \n",
       "75%         0.000000          0.000000      0.000000      0.000000   \n",
       "max         1.000000          1.000000      1.000000      1.000000   \n",
       "\n",
       "       Source_OFFICIAL     Source_PR     Source_SE     Source_US     Source_UW  \n",
       "count     23412.000000  23412.000000  23412.000000  23412.000000  23412.000000  \n",
       "mean          0.000342      0.000043      0.000043      0.881172      0.000256  \n",
       "std           0.018483      0.006536      0.006536      0.323593      0.016007  \n",
       "min           0.000000      0.000000      0.000000      0.000000      0.000000  \n",
       "25%           0.000000      0.000000      0.000000      1.000000      0.000000  \n",
       "50%           0.000000      0.000000      0.000000      1.000000      0.000000  \n",
       "75%           0.000000      0.000000      0.000000      1.000000      0.000000  \n",
       "max           1.000000      1.000000      1.000000      1.000000      1.000000  \n",
       "\n",
       "[8 rows x 23 columns]"
      ]
     },
     "execution_count": 72,
     "metadata": {},
     "output_type": "execute_result"
    }
   ],
   "source": [
    "earthquakes.describe()"
   ]
  },
  {
   "cell_type": "code",
   "execution_count": 67,
   "metadata": {},
   "outputs": [
    {
     "data": {
      "text/html": [
       "<div>\n",
       "<style scoped>\n",
       "    .dataframe tbody tr th:only-of-type {\n",
       "        vertical-align: middle;\n",
       "    }\n",
       "\n",
       "    .dataframe tbody tr th {\n",
       "        vertical-align: top;\n",
       "    }\n",
       "\n",
       "    .dataframe thead th {\n",
       "        text-align: right;\n",
       "    }\n",
       "</style>\n",
       "<table border=\"1\" class=\"dataframe\">\n",
       "  <thead>\n",
       "    <tr style=\"text-align: right;\">\n",
       "      <th></th>\n",
       "      <th>Latitude</th>\n",
       "      <th>Longitude</th>\n",
       "      <th>Depth</th>\n",
       "      <th>Depth Error</th>\n",
       "      <th>Depth Seismic Stations</th>\n",
       "      <th>Magnitude</th>\n",
       "      <th>Azimuthal Gap</th>\n",
       "      <th>Horizontal Distance</th>\n",
       "      <th>Root Mean Square</th>\n",
       "      <th>Status</th>\n",
       "      <th>...</th>\n",
       "      <th>Source_GCMT</th>\n",
       "      <th>Source_ISCGEM</th>\n",
       "      <th>Source_ISCGEMSUP</th>\n",
       "      <th>Source_NC</th>\n",
       "      <th>Source_NN</th>\n",
       "      <th>Source_OFFICIAL</th>\n",
       "      <th>Source_PR</th>\n",
       "      <th>Source_SE</th>\n",
       "      <th>Source_US</th>\n",
       "      <th>Source_UW</th>\n",
       "    </tr>\n",
       "  </thead>\n",
       "  <tbody>\n",
       "    <tr>\n",
       "      <th>0</th>\n",
       "      <td>19.2460</td>\n",
       "      <td>145.6160</td>\n",
       "      <td>131.60</td>\n",
       "      <td>0.0</td>\n",
       "      <td>0.0</td>\n",
       "      <td>6.0</td>\n",
       "      <td>0.00</td>\n",
       "      <td>0.000</td>\n",
       "      <td>0.0000</td>\n",
       "      <td>1</td>\n",
       "      <td>...</td>\n",
       "      <td>0</td>\n",
       "      <td>1</td>\n",
       "      <td>0</td>\n",
       "      <td>0</td>\n",
       "      <td>0</td>\n",
       "      <td>0</td>\n",
       "      <td>0</td>\n",
       "      <td>0</td>\n",
       "      <td>0</td>\n",
       "      <td>0</td>\n",
       "    </tr>\n",
       "    <tr>\n",
       "      <th>1</th>\n",
       "      <td>1.8630</td>\n",
       "      <td>127.3520</td>\n",
       "      <td>80.00</td>\n",
       "      <td>0.0</td>\n",
       "      <td>0.0</td>\n",
       "      <td>5.8</td>\n",
       "      <td>0.00</td>\n",
       "      <td>0.000</td>\n",
       "      <td>0.0000</td>\n",
       "      <td>1</td>\n",
       "      <td>...</td>\n",
       "      <td>0</td>\n",
       "      <td>1</td>\n",
       "      <td>0</td>\n",
       "      <td>0</td>\n",
       "      <td>0</td>\n",
       "      <td>0</td>\n",
       "      <td>0</td>\n",
       "      <td>0</td>\n",
       "      <td>0</td>\n",
       "      <td>0</td>\n",
       "    </tr>\n",
       "    <tr>\n",
       "      <th>2</th>\n",
       "      <td>-20.5790</td>\n",
       "      <td>-173.9720</td>\n",
       "      <td>20.00</td>\n",
       "      <td>0.0</td>\n",
       "      <td>0.0</td>\n",
       "      <td>6.2</td>\n",
       "      <td>0.00</td>\n",
       "      <td>0.000</td>\n",
       "      <td>0.0000</td>\n",
       "      <td>1</td>\n",
       "      <td>...</td>\n",
       "      <td>0</td>\n",
       "      <td>1</td>\n",
       "      <td>0</td>\n",
       "      <td>0</td>\n",
       "      <td>0</td>\n",
       "      <td>0</td>\n",
       "      <td>0</td>\n",
       "      <td>0</td>\n",
       "      <td>0</td>\n",
       "      <td>0</td>\n",
       "    </tr>\n",
       "    <tr>\n",
       "      <th>3</th>\n",
       "      <td>-59.0760</td>\n",
       "      <td>-23.5570</td>\n",
       "      <td>15.00</td>\n",
       "      <td>0.0</td>\n",
       "      <td>0.0</td>\n",
       "      <td>5.8</td>\n",
       "      <td>0.00</td>\n",
       "      <td>0.000</td>\n",
       "      <td>0.0000</td>\n",
       "      <td>1</td>\n",
       "      <td>...</td>\n",
       "      <td>0</td>\n",
       "      <td>1</td>\n",
       "      <td>0</td>\n",
       "      <td>0</td>\n",
       "      <td>0</td>\n",
       "      <td>0</td>\n",
       "      <td>0</td>\n",
       "      <td>0</td>\n",
       "      <td>0</td>\n",
       "      <td>0</td>\n",
       "    </tr>\n",
       "    <tr>\n",
       "      <th>4</th>\n",
       "      <td>11.9380</td>\n",
       "      <td>126.4270</td>\n",
       "      <td>15.00</td>\n",
       "      <td>0.0</td>\n",
       "      <td>0.0</td>\n",
       "      <td>5.8</td>\n",
       "      <td>0.00</td>\n",
       "      <td>0.000</td>\n",
       "      <td>0.0000</td>\n",
       "      <td>1</td>\n",
       "      <td>...</td>\n",
       "      <td>0</td>\n",
       "      <td>1</td>\n",
       "      <td>0</td>\n",
       "      <td>0</td>\n",
       "      <td>0</td>\n",
       "      <td>0</td>\n",
       "      <td>0</td>\n",
       "      <td>0</td>\n",
       "      <td>0</td>\n",
       "      <td>0</td>\n",
       "    </tr>\n",
       "    <tr>\n",
       "      <th>...</th>\n",
       "      <td>...</td>\n",
       "      <td>...</td>\n",
       "      <td>...</td>\n",
       "      <td>...</td>\n",
       "      <td>...</td>\n",
       "      <td>...</td>\n",
       "      <td>...</td>\n",
       "      <td>...</td>\n",
       "      <td>...</td>\n",
       "      <td>...</td>\n",
       "      <td>...</td>\n",
       "      <td>...</td>\n",
       "      <td>...</td>\n",
       "      <td>...</td>\n",
       "      <td>...</td>\n",
       "      <td>...</td>\n",
       "      <td>...</td>\n",
       "      <td>...</td>\n",
       "      <td>...</td>\n",
       "      <td>...</td>\n",
       "      <td>...</td>\n",
       "    </tr>\n",
       "    <tr>\n",
       "      <th>23407</th>\n",
       "      <td>38.3917</td>\n",
       "      <td>-118.8941</td>\n",
       "      <td>12.30</td>\n",
       "      <td>1.2</td>\n",
       "      <td>40.0</td>\n",
       "      <td>5.6</td>\n",
       "      <td>42.47</td>\n",
       "      <td>0.120</td>\n",
       "      <td>0.1898</td>\n",
       "      <td>0</td>\n",
       "      <td>...</td>\n",
       "      <td>0</td>\n",
       "      <td>0</td>\n",
       "      <td>0</td>\n",
       "      <td>0</td>\n",
       "      <td>1</td>\n",
       "      <td>0</td>\n",
       "      <td>0</td>\n",
       "      <td>0</td>\n",
       "      <td>0</td>\n",
       "      <td>0</td>\n",
       "    </tr>\n",
       "    <tr>\n",
       "      <th>23408</th>\n",
       "      <td>38.3777</td>\n",
       "      <td>-118.8957</td>\n",
       "      <td>8.80</td>\n",
       "      <td>2.0</td>\n",
       "      <td>33.0</td>\n",
       "      <td>5.5</td>\n",
       "      <td>48.58</td>\n",
       "      <td>0.129</td>\n",
       "      <td>0.2187</td>\n",
       "      <td>0</td>\n",
       "      <td>...</td>\n",
       "      <td>0</td>\n",
       "      <td>0</td>\n",
       "      <td>0</td>\n",
       "      <td>0</td>\n",
       "      <td>1</td>\n",
       "      <td>0</td>\n",
       "      <td>0</td>\n",
       "      <td>0</td>\n",
       "      <td>0</td>\n",
       "      <td>0</td>\n",
       "    </tr>\n",
       "    <tr>\n",
       "      <th>23409</th>\n",
       "      <td>36.9179</td>\n",
       "      <td>140.4262</td>\n",
       "      <td>10.00</td>\n",
       "      <td>1.8</td>\n",
       "      <td>0.0</td>\n",
       "      <td>5.9</td>\n",
       "      <td>91.00</td>\n",
       "      <td>0.992</td>\n",
       "      <td>1.5200</td>\n",
       "      <td>0</td>\n",
       "      <td>...</td>\n",
       "      <td>0</td>\n",
       "      <td>0</td>\n",
       "      <td>0</td>\n",
       "      <td>0</td>\n",
       "      <td>0</td>\n",
       "      <td>0</td>\n",
       "      <td>0</td>\n",
       "      <td>0</td>\n",
       "      <td>1</td>\n",
       "      <td>0</td>\n",
       "    </tr>\n",
       "    <tr>\n",
       "      <th>23410</th>\n",
       "      <td>-9.0283</td>\n",
       "      <td>118.6639</td>\n",
       "      <td>79.00</td>\n",
       "      <td>1.8</td>\n",
       "      <td>0.0</td>\n",
       "      <td>6.3</td>\n",
       "      <td>26.00</td>\n",
       "      <td>3.553</td>\n",
       "      <td>1.4300</td>\n",
       "      <td>0</td>\n",
       "      <td>...</td>\n",
       "      <td>0</td>\n",
       "      <td>0</td>\n",
       "      <td>0</td>\n",
       "      <td>0</td>\n",
       "      <td>0</td>\n",
       "      <td>0</td>\n",
       "      <td>0</td>\n",
       "      <td>0</td>\n",
       "      <td>1</td>\n",
       "      <td>0</td>\n",
       "    </tr>\n",
       "    <tr>\n",
       "      <th>23411</th>\n",
       "      <td>37.3973</td>\n",
       "      <td>141.4103</td>\n",
       "      <td>11.94</td>\n",
       "      <td>2.2</td>\n",
       "      <td>0.0</td>\n",
       "      <td>5.5</td>\n",
       "      <td>97.00</td>\n",
       "      <td>0.681</td>\n",
       "      <td>0.9100</td>\n",
       "      <td>0</td>\n",
       "      <td>...</td>\n",
       "      <td>0</td>\n",
       "      <td>0</td>\n",
       "      <td>0</td>\n",
       "      <td>0</td>\n",
       "      <td>0</td>\n",
       "      <td>0</td>\n",
       "      <td>0</td>\n",
       "      <td>0</td>\n",
       "      <td>1</td>\n",
       "      <td>0</td>\n",
       "    </tr>\n",
       "  </tbody>\n",
       "</table>\n",
       "<p>23412 rows × 23 columns</p>\n",
       "</div>"
      ],
      "text/plain": [
       "       Latitude  Longitude   Depth  Depth Error  Depth Seismic Stations  \\\n",
       "0       19.2460   145.6160  131.60          0.0                     0.0   \n",
       "1        1.8630   127.3520   80.00          0.0                     0.0   \n",
       "2      -20.5790  -173.9720   20.00          0.0                     0.0   \n",
       "3      -59.0760   -23.5570   15.00          0.0                     0.0   \n",
       "4       11.9380   126.4270   15.00          0.0                     0.0   \n",
       "...         ...        ...     ...          ...                     ...   \n",
       "23407   38.3917  -118.8941   12.30          1.2                    40.0   \n",
       "23408   38.3777  -118.8957    8.80          2.0                    33.0   \n",
       "23409   36.9179   140.4262   10.00          1.8                     0.0   \n",
       "23410   -9.0283   118.6639   79.00          1.8                     0.0   \n",
       "23411   37.3973   141.4103   11.94          2.2                     0.0   \n",
       "\n",
       "       Magnitude  Azimuthal Gap  Horizontal Distance  Root Mean Square  \\\n",
       "0            6.0           0.00                0.000            0.0000   \n",
       "1            5.8           0.00                0.000            0.0000   \n",
       "2            6.2           0.00                0.000            0.0000   \n",
       "3            5.8           0.00                0.000            0.0000   \n",
       "4            5.8           0.00                0.000            0.0000   \n",
       "...          ...            ...                  ...               ...   \n",
       "23407        5.6          42.47                0.120            0.1898   \n",
       "23408        5.5          48.58                0.129            0.2187   \n",
       "23409        5.9          91.00                0.992            1.5200   \n",
       "23410        6.3          26.00                3.553            1.4300   \n",
       "23411        5.5          97.00                0.681            0.9100   \n",
       "\n",
       "       Status  ...  Source_GCMT  Source_ISCGEM  Source_ISCGEMSUP  Source_NC  \\\n",
       "0           1  ...            0              1                 0          0   \n",
       "1           1  ...            0              1                 0          0   \n",
       "2           1  ...            0              1                 0          0   \n",
       "3           1  ...            0              1                 0          0   \n",
       "4           1  ...            0              1                 0          0   \n",
       "...       ...  ...          ...            ...               ...        ...   \n",
       "23407       0  ...            0              0                 0          0   \n",
       "23408       0  ...            0              0                 0          0   \n",
       "23409       0  ...            0              0                 0          0   \n",
       "23410       0  ...            0              0                 0          0   \n",
       "23411       0  ...            0              0                 0          0   \n",
       "\n",
       "       Source_NN  Source_OFFICIAL  Source_PR  Source_SE  Source_US  Source_UW  \n",
       "0              0                0          0          0          0          0  \n",
       "1              0                0          0          0          0          0  \n",
       "2              0                0          0          0          0          0  \n",
       "3              0                0          0          0          0          0  \n",
       "4              0                0          0          0          0          0  \n",
       "...          ...              ...        ...        ...        ...        ...  \n",
       "23407          1                0          0          0          0          0  \n",
       "23408          1                0          0          0          0          0  \n",
       "23409          0                0          0          0          1          0  \n",
       "23410          0                0          0          0          1          0  \n",
       "23411          0                0          0          0          1          0  \n",
       "\n",
       "[23412 rows x 23 columns]"
      ]
     },
     "execution_count": 67,
     "metadata": {},
     "output_type": "execute_result"
    }
   ],
   "source": [
    "# dataset prepared to the model\n",
    "earthquakes"
   ]
  },
  {
   "cell_type": "markdown",
   "metadata": {},
   "source": [
    "### Separate data to training and testing sets"
   ]
  },
  {
   "cell_type": "code",
   "execution_count": 75,
   "metadata": {},
   "outputs": [],
   "source": [
    "feature_cols = ['Latitude','Longitude','Depth','Depth Error','Depth Seismic Stations','Azimuthal Gap','Horizontal Distance',\n",
    "                'Root Mean Square','Status','Source_AK','Source_ATLAS','Source_CI','Source_GCMT','Source_ISCGEM',\n",
    "                'Source_ISCGEMSUP','Source_NC','Source_NN','Source_OFFICIAL','Source_PR','Source_SE','Source_US',\n",
    "                'Source_UW']\n",
    "X = earthquakes[feature_cols]\n",
    "y = earthquakes['Magnitude']\n",
    "\n",
    "X_train, X_test, y_train, y_test = train_test_split(X, y, random_state=4)"
   ]
  },
  {
   "cell_type": "markdown",
   "metadata": {},
   "source": [
    "#### Confusion matrix:"
   ]
  },
  {
   "cell_type": "code",
   "execution_count": null,
   "metadata": {},
   "outputs": [],
   "source": []
  }
 ],
 "metadata": {
  "kernelspec": {
   "display_name": "Python 3",
   "language": "python",
   "name": "python3"
  },
  "language_info": {
   "codemirror_mode": {
    "name": "ipython",
    "version": 3
   },
   "file_extension": ".py",
   "mimetype": "text/x-python",
   "name": "python",
   "nbconvert_exporter": "python",
   "pygments_lexer": "ipython3",
   "version": "3.8.5"
  }
 },
 "nbformat": 4,
 "nbformat_minor": 4
}
