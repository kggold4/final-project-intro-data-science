{
 "cells": [
  {
   "cell_type": "markdown",
   "metadata": {},
   "source": [
    "# Introduction to Data Science Course Final Project\n",
    "\n",
    "> by Kfir Goldfarb\n",
    "\n",
    "<a href=\"https://github.com/kggold4\"><img src=\"images/github.png\" width=\"25px\" height=\"25px\" align=\"left\"></a>\n",
    "<a href=\"https://www.linkedin.com/in/kfir-goldfarb/\"><img src=\"images/in.png\"  width=\"25px\" height=\"25px\" align=\"left\"></a>\n",
    "<a href=\"mailto:kfir.goldfarb@msmail.ariel.ac.il\"><img src=\"images/email.png\" width=\"25px\" height=\"25px\" align=\"left\"></a>\n",
    "<a href=\"https://www.youtube.com/channel/UCypEWlruyG_I5A48GqB5c6g\"><img src=\"images/youtube.png\" width=\"25px\" height=\"25px\" align=\"left\"></a>\n",
    "\n",
    "<br>\n",
    "\n",
    "# Jupyter Notebook Number 2\n",
    "<i>Python Programming</i>\n",
    "<br>\n",
    "\n",
    "<img src=\"images/progimages.jpg\" width=\"90%\" height=\"auto\" align=\"left\">"
   ]
  },
  {
   "cell_type": "markdown",
   "metadata": {},
   "source": [
    "# Question 1:"
   ]
  },
  {
   "cell_type": "code",
   "execution_count": 2,
   "metadata": {},
   "outputs": [
    {
     "name": "stdout",
     "output_type": "stream",
     "text": [
      "base 2  (binary): 1110101\n",
      "base 8  (octal): 165\n",
      "base 16 (hexadecimal): 75\n"
     ]
    }
   ],
   "source": [
    "# this to_binary_bases function gets a decimal number and print the number in binary, octal and hexadecimal bases\n",
    "def to_binary_bases(num : int):\n",
    "    print('base 2  (binary):',  bin(num)[2:])\n",
    "    print('base 8  (octal):',  oct(num)[2:])\n",
    "    print('base 16 (hexadecimal):', hex(num)[2:])\n",
    "    \n",
    "# example:\n",
    "to_binary_bases(117)"
   ]
  },
  {
   "cell_type": "markdown",
   "metadata": {},
   "source": [
    "# Question 2:"
   ]
  },
  {
   "cell_type": "code",
   "execution_count": 3,
   "metadata": {},
   "outputs": [
    {
     "data": {
      "text/html": [
       "<div>\n",
       "<style scoped>\n",
       "    .dataframe tbody tr th:only-of-type {\n",
       "        vertical-align: middle;\n",
       "    }\n",
       "\n",
       "    .dataframe tbody tr th {\n",
       "        vertical-align: top;\n",
       "    }\n",
       "\n",
       "    .dataframe thead th {\n",
       "        text-align: right;\n",
       "    }\n",
       "</style>\n",
       "<table border=\"1\" class=\"dataframe\">\n",
       "  <thead>\n",
       "    <tr style=\"text-align: right;\">\n",
       "      <th></th>\n",
       "      <th>title</th>\n",
       "      <th>year</th>\n",
       "      <th>name</th>\n",
       "      <th>type</th>\n",
       "      <th>character</th>\n",
       "      <th>n</th>\n",
       "    </tr>\n",
       "  </thead>\n",
       "  <tbody>\n",
       "    <tr>\n",
       "      <th>0</th>\n",
       "      <td>Suuri illusioni</td>\n",
       "      <td>1985</td>\n",
       "      <td>Homo $</td>\n",
       "      <td>actor</td>\n",
       "      <td>Guests</td>\n",
       "      <td>22.0</td>\n",
       "    </tr>\n",
       "    <tr>\n",
       "      <th>1</th>\n",
       "      <td>Gangsta Rap: The Glockumentary</td>\n",
       "      <td>2007</td>\n",
       "      <td>Too $hort</td>\n",
       "      <td>actor</td>\n",
       "      <td>Himself</td>\n",
       "      <td>NaN</td>\n",
       "    </tr>\n",
       "    <tr>\n",
       "      <th>2</th>\n",
       "      <td>Menace II Society</td>\n",
       "      <td>1993</td>\n",
       "      <td>Too $hort</td>\n",
       "      <td>actor</td>\n",
       "      <td>Lew-Loc</td>\n",
       "      <td>27.0</td>\n",
       "    </tr>\n",
       "    <tr>\n",
       "      <th>3</th>\n",
       "      <td>Porndogs: The Adventures of Sadie</td>\n",
       "      <td>2009</td>\n",
       "      <td>Too $hort</td>\n",
       "      <td>actor</td>\n",
       "      <td>Bosco</td>\n",
       "      <td>3.0</td>\n",
       "    </tr>\n",
       "    <tr>\n",
       "      <th>4</th>\n",
       "      <td>Stop Pepper Palmer</td>\n",
       "      <td>2014</td>\n",
       "      <td>Too $hort</td>\n",
       "      <td>actor</td>\n",
       "      <td>Himself</td>\n",
       "      <td>NaN</td>\n",
       "    </tr>\n",
       "  </tbody>\n",
       "</table>\n",
       "</div>"
      ],
      "text/plain": [
       "                               title  year       name   type character     n\n",
       "0                    Suuri illusioni  1985     Homo $  actor    Guests  22.0\n",
       "1     Gangsta Rap: The Glockumentary  2007  Too $hort  actor   Himself   NaN\n",
       "2                  Menace II Society  1993  Too $hort  actor   Lew-Loc  27.0\n",
       "3  Porndogs: The Adventures of Sadie  2009  Too $hort  actor     Bosco   3.0\n",
       "4                 Stop Pepper Palmer  2014  Too $hort  actor   Himself   NaN"
      ]
     },
     "execution_count": 3,
     "metadata": {},
     "output_type": "execute_result"
    }
   ],
   "source": [
    "import pandas as pd\n",
    "cast = pd.read_csv('data/cast.csv')\n",
    "cast.head()"
   ]
  },
  {
   "cell_type": "markdown",
   "metadata": {},
   "source": [
    "### Section 1:"
   ]
  },
  {
   "cell_type": "code",
   "execution_count": 35,
   "metadata": {},
   "outputs": [
    {
     "name": "stdout",
     "output_type": "stream",
     "text": [
      "Number of movies with the title 'Hamlet' is 17\n"
     ]
    }
   ],
   "source": [
    "# How many movies have the title \"Hamlet\"?\n",
    "\n",
    "# prints the number of 'Hamlet' in title feature:\n",
    "\n",
    "# getting only the films with title of 'Hamlet'\n",
    "title_hamlet = cast.loc[cast['title'] == 'Hamlet']\n",
    "\n",
    "# droping all the duplicates by year, assuming that every year there is only one film\n",
    "title_hamlet_films = title_hamlet.drop_duplicates(subset='year',keep='first')\n",
    "\n",
    "# get and print the count of movise\n",
    "title_hamlet_count = title_hamlet_films.shape[0]\n",
    "print('Number of movies with the title \\'Hamlet\\' is {}'.format(title_hamlet_count))"
   ]
  },
  {
   "cell_type": "markdown",
   "metadata": {},
   "source": [
    "### Section 2:"
   ]
  },
  {
   "cell_type": "code",
   "execution_count": 40,
   "metadata": {},
   "outputs": [
    {
     "data": {
      "text/html": [
       "<div>\n",
       "<style scoped>\n",
       "    .dataframe tbody tr th:only-of-type {\n",
       "        vertical-align: middle;\n",
       "    }\n",
       "\n",
       "    .dataframe tbody tr th {\n",
       "        vertical-align: top;\n",
       "    }\n",
       "\n",
       "    .dataframe thead th {\n",
       "        text-align: right;\n",
       "    }\n",
       "</style>\n",
       "<table border=\"1\" class=\"dataframe\">\n",
       "  <thead>\n",
       "    <tr style=\"text-align: right;\">\n",
       "      <th></th>\n",
       "      <th>title</th>\n",
       "      <th>year</th>\n",
       "      <th>name</th>\n",
       "      <th>type</th>\n",
       "      <th>character</th>\n",
       "      <th>n</th>\n",
       "    </tr>\n",
       "  </thead>\n",
       "  <tbody>\n",
       "    <tr>\n",
       "      <th>313097</th>\n",
       "      <td>Treasure Island</td>\n",
       "      <td>1918</td>\n",
       "      <td>Francis Carpenter</td>\n",
       "      <td>actor</td>\n",
       "      <td>Jim Hawkins</td>\n",
       "      <td>1.0</td>\n",
       "    </tr>\n",
       "    <tr>\n",
       "      <th>345942</th>\n",
       "      <td>Treasure Island</td>\n",
       "      <td>1920</td>\n",
       "      <td>Lon Chaney</td>\n",
       "      <td>actor</td>\n",
       "      <td>Blind Pew</td>\n",
       "      <td>5.0</td>\n",
       "    </tr>\n",
       "    <tr>\n",
       "      <th>8570</th>\n",
       "      <td>Treasure Island</td>\n",
       "      <td>1934</td>\n",
       "      <td>Robert Adair</td>\n",
       "      <td>actor</td>\n",
       "      <td>Tom - Seaman</td>\n",
       "      <td>NaN</td>\n",
       "    </tr>\n",
       "    <tr>\n",
       "      <th>12141</th>\n",
       "      <td>Treasure Island</td>\n",
       "      <td>1950</td>\n",
       "      <td>Chris Adcock</td>\n",
       "      <td>actor</td>\n",
       "      <td>Pike</td>\n",
       "      <td>26.0</td>\n",
       "    </tr>\n",
       "    <tr>\n",
       "      <th>38151</th>\n",
       "      <td>Treasure Island</td>\n",
       "      <td>1972</td>\n",
       "      <td>Cristino Almod?var</td>\n",
       "      <td>actor</td>\n",
       "      <td>O'Brien</td>\n",
       "      <td>18.0</td>\n",
       "    </tr>\n",
       "    <tr>\n",
       "      <th>484325</th>\n",
       "      <td>Treasure Island</td>\n",
       "      <td>1973</td>\n",
       "      <td>Richard Dawson</td>\n",
       "      <td>actor</td>\n",
       "      <td>Long John Silver</td>\n",
       "      <td>1.0</td>\n",
       "    </tr>\n",
       "    <tr>\n",
       "      <th>14899</th>\n",
       "      <td>Treasure Island</td>\n",
       "      <td>1985</td>\n",
       "      <td>Yves Afonso</td>\n",
       "      <td>actor</td>\n",
       "      <td>French captain</td>\n",
       "      <td>8.0</td>\n",
       "    </tr>\n",
       "    <tr>\n",
       "      <th>104905</th>\n",
       "      <td>Treasure Island</td>\n",
       "      <td>1999</td>\n",
       "      <td>Lance (II) Baker</td>\n",
       "      <td>actor</td>\n",
       "      <td>Frank</td>\n",
       "      <td>1.0</td>\n",
       "    </tr>\n",
       "  </tbody>\n",
       "</table>\n",
       "</div>"
      ],
      "text/plain": [
       "                  title  year                name   type         character  \\\n",
       "313097  Treasure Island  1918   Francis Carpenter  actor       Jim Hawkins   \n",
       "345942  Treasure Island  1920          Lon Chaney  actor        Blind Pew    \n",
       "8570    Treasure Island  1934        Robert Adair  actor      Tom - Seaman   \n",
       "12141   Treasure Island  1950        Chris Adcock  actor              Pike   \n",
       "38151   Treasure Island  1972  Cristino Almod?var  actor           O'Brien   \n",
       "484325  Treasure Island  1973      Richard Dawson  actor  Long John Silver   \n",
       "14899   Treasure Island  1985         Yves Afonso  actor    French captain   \n",
       "104905  Treasure Island  1999    Lance (II) Baker  actor             Frank   \n",
       "\n",
       "           n  \n",
       "313097   1.0  \n",
       "345942   5.0  \n",
       "8570     NaN  \n",
       "12141   26.0  \n",
       "38151   18.0  \n",
       "484325   1.0  \n",
       "14899    8.0  \n",
       "104905   1.0  "
      ]
     },
     "execution_count": 40,
     "metadata": {},
     "output_type": "execute_result"
    }
   ],
   "source": [
    "# list all of the \"Treasure Island\" movies from earliest to most recent.\n",
    "\n",
    "# get only the 'Treasure Island' value in title in cast data frame:\n",
    "title_treasure_island = cast.loc[cast['title'] == 'Treasure Island']\n",
    "\n",
    "# first, droping all the duplicates by year, assuming that every year there is only one film\n",
    "title_treasure_island_films = title_treasure_island.drop_duplicates(subset='year',keep='first')\n",
    "\n",
    "# sorting by year and show it:\n",
    "title_treasure_island_films.sort_values(by=['year'])"
   ]
  },
  {
   "cell_type": "markdown",
   "metadata": {},
   "source": [
    "### Section 3:"
   ]
  },
  {
   "cell_type": "code",
   "execution_count": 41,
   "metadata": {},
   "outputs": [
    {
     "data": {
      "text/plain": [
       "9"
      ]
     },
     "execution_count": 41,
     "metadata": {},
     "output_type": "execute_result"
    }
   ],
   "source": [
    "# How many roles were credited in the silent 1921 version of Hamlet?\n",
    "\n",
    "# create another data frame called halmet that will contains only halmet flims\n",
    "hamlet = cast.loc[cast['title'] == 'Hamlet']\n",
    "\n",
    "# create another data frame called hamlet_year that will contains only halmet flims from 1921\n",
    "hamlet_year = hamlet.loc[cast['year'] == 1921]\n",
    "\n",
    "# print the len of the cast in the 1921 halmet flim and get 9\n",
    "len(hamlet_year)"
   ]
  },
  {
   "cell_type": "markdown",
   "metadata": {},
   "source": [
    "### Section 4:"
   ]
  },
  {
   "cell_type": "code",
   "execution_count": 19,
   "metadata": {},
   "outputs": [
    {
     "data": {
      "image/png": "[encoded data removed]",
      "text/plain": [
       "<Figure size 720x504 with 1 Axes>"
      ]
     },
     "metadata": {
      "needs_background": "light"
     },
     "output_type": "display_data"
    }
   ],
   "source": [
    "# Use groupby() to plot the number of \"Hamlet\" films made each decade\n",
    "# import matplotlib fot ploting\n",
    "import matplotlib.pyplot as plt\n",
    "%matplotlib inline\n",
    "\n",
    "# import numpy for arange x and y axis numbers\n",
    "import numpy as np\n",
    "\n",
    "# graph size\n",
    "plt.figure(figsize=(10, 7))\n",
    "\n",
    "# change x axis number seperate in decades: [1910 - 2020]\n",
    "plt.xticks(np.arange(1910, 2020, 10), fontsize=10)\n",
    "\n",
    "# change y axis number to bet between 0 and 100 with steps of 10\n",
    "plt.yticks(np.arange(0, 100, 10))\n",
    "\n",
    "# using group by only to get the flims with the title of 'Hamlet' group by the 'year' feature\n",
    "plt.hist(cast.loc[cast['title'] == 'Hamlet']['year'])\n",
    "\n",
    "# change lables\n",
    "plt.xlabel('Decades', fontsize=14)\n",
    "plt.ylabel('Number of films', fontsize=14)\n",
    "\n",
    "# plot\n",
    "plt.show()"
   ]
  },
  {
   "cell_type": "markdown",
   "metadata": {},
   "source": [
    "### Section 5:"
   ]
  },
  {
   "cell_type": "code",
   "execution_count": 20,
   "metadata": {},
   "outputs": [
    {
     "name": "stdout",
     "output_type": "stream",
     "text": [
      "actors:\n",
      "\tyear: 1950, sum: 604.0\n",
      "\tyear: 1951, sum: 633.0\n",
      "\tyear: 1952, sum: 591.0\n",
      "\tyear: 1953, sum: 634.0\n",
      "\tyear: 1954, sum: 626.0\n",
      "\tyear: 1955, sum: 606.0\n",
      "\tyear: 1956, sum: 614.0\n",
      "\tyear: 1957, sum: 708.0\n",
      "\tyear: 1958, sum: 694.0\n",
      "\tyear: 1959, sum: 678.0\n",
      "\n",
      "actresses:\n",
      "\tyear: 1950, sum: 271.0\n",
      "\tyear: 1951, sum: 272.0\n",
      "\tyear: 1952, sum: 284.0\n",
      "\tyear: 1953, sum: 290.0\n",
      "\tyear: 1954, sum: 298.0\n",
      "\tyear: 1955, sum: 264.0\n",
      "\tyear: 1956, sum: 288.0\n",
      "\tyear: 1957, sum: 284.0\n",
      "\tyear: 1958, sum: 275.0\n",
      "\tyear: 1959, sum: 287.0\n"
     ]
    }
   ],
   "source": [
    "# How many leading (n=1) roles were available to actors, and how many to actresses, in each year of the 1950s?\n",
    "n_actors = cast['n'].eq(1).sum()\n",
    "\n",
    "# getting from cast dataframe only the flims from the fifties, between years 1950 and 1959\n",
    "fifties = cast.loc[(cast['year'] >= 1950) & (cast['year'] <= 1959)]\n",
    "\n",
    "# seperate the fifties to two types: type actor and type actress\n",
    "fifties_actor = fifties.loc[cast['type'] == 'actor']\n",
    "fifties_actress = fifties.loc[cast['type'] == 'actress']\n",
    "\n",
    "# for each data frame by type from the fifties, separate to two more data frames only with leading (n=1) roles\n",
    "\n",
    "# fifties_actor_n - only flims in the 1950s, by type actor and n=1\n",
    "fifties_actor_n = fifties_actor.loc[cast['n'] == 1]\n",
    "\n",
    "# fifties_actor_n - only flims in the 1950s, by type actress and n=1\n",
    "fifties_actress_n = fifties_actress.loc[cast['n'] == 1]\n",
    "\n",
    "# for each data frame take the sun of it\n",
    "fifties_actor_n_sum = fifties_actor_n.groupby('year').sum()\n",
    "fifties_actress_n_sum = fifties_actress_n.groupby('year').sum()\n",
    "\n",
    "# print for actors the sum\n",
    "print('actors:')\n",
    "first = 1950\n",
    "for i in fifties_actor_n_sum['n']:\n",
    "    print('\\tyear: {}, sum: {}'.format(first, i))\n",
    "    first += 1\n",
    "    \n",
    "# print for actresses the sum\n",
    "print('\\nactresses:')\n",
    "first = 1950\n",
    "for i in fifties_actress_n_sum['n']:\n",
    "    print('\\tyear: {}, sum: {}'.format(first, i))\n",
    "    first += 1"
   ]
  },
  {
   "cell_type": "markdown",
   "metadata": {},
   "source": [
    "### Section 6:"
   ]
  },
  {
   "cell_type": "code",
   "execution_count": 32,
   "metadata": {},
   "outputs": [
    {
     "data": {
      "text/html": [
       "<div>\n",
       "<style scoped>\n",
       "    .dataframe tbody tr th:only-of-type {\n",
       "        vertical-align: middle;\n",
       "    }\n",
       "\n",
       "    .dataframe tbody tr th {\n",
       "        vertical-align: top;\n",
       "    }\n",
       "\n",
       "    .dataframe thead th {\n",
       "        text-align: right;\n",
       "    }\n",
       "</style>\n",
       "<table border=\"1\" class=\"dataframe\">\n",
       "  <thead>\n",
       "    <tr style=\"text-align: right;\">\n",
       "      <th></th>\n",
       "      <th>year</th>\n",
       "      <th>n</th>\n",
       "    </tr>\n",
       "    <tr>\n",
       "      <th>name</th>\n",
       "      <th></th>\n",
       "      <th></th>\n",
       "    </tr>\n",
       "  </thead>\n",
       "  <tbody>\n",
       "    <tr>\n",
       "      <th>'Chiyaan' Vikram</th>\n",
       "      <td>50165</td>\n",
       "      <td>25.0</td>\n",
       "    </tr>\n",
       "    <tr>\n",
       "      <th>'Cowboy' Matt Hopewell</th>\n",
       "      <td>2012</td>\n",
       "      <td>1.0</td>\n",
       "    </tr>\n",
       "    <tr>\n",
       "      <th>'Karloff' Lagarde</th>\n",
       "      <td>3932</td>\n",
       "      <td>2.0</td>\n",
       "    </tr>\n",
       "    <tr>\n",
       "      <th>'Little Billy' Rhodes</th>\n",
       "      <td>1926</td>\n",
       "      <td>1.0</td>\n",
       "    </tr>\n",
       "    <tr>\n",
       "      <th>'Pook Diesel' Paul Watson</th>\n",
       "      <td>2007</td>\n",
       "      <td>1.0</td>\n",
       "    </tr>\n",
       "    <tr>\n",
       "      <th>...</th>\n",
       "      <td>...</td>\n",
       "      <td>...</td>\n",
       "    </tr>\n",
       "    <tr>\n",
       "      <th>Zygmunt H?bner</th>\n",
       "      <td>1967</td>\n",
       "      <td>1.0</td>\n",
       "    </tr>\n",
       "    <tr>\n",
       "      <th>Zygmunt Kestowicz</th>\n",
       "      <td>3915</td>\n",
       "      <td>2.0</td>\n",
       "    </tr>\n",
       "    <tr>\n",
       "      <th>Zygmunt Malanowicz</th>\n",
       "      <td>9872</td>\n",
       "      <td>5.0</td>\n",
       "    </tr>\n",
       "    <tr>\n",
       "      <th>Zygmunt Modzelewski</th>\n",
       "      <td>1926</td>\n",
       "      <td>1.0</td>\n",
       "    </tr>\n",
       "    <tr>\n",
       "      <th>Zygmunt Turkow</th>\n",
       "      <td>1937</td>\n",
       "      <td>1.0</td>\n",
       "    </tr>\n",
       "  </tbody>\n",
       "</table>\n",
       "<p>55238 rows × 2 columns</p>\n",
       "</div>"
      ],
      "text/plain": [
       "                            year     n\n",
       "name                                  \n",
       "'Chiyaan' Vikram           50165  25.0\n",
       "'Cowboy' Matt Hopewell      2012   1.0\n",
       "'Karloff' Lagarde           3932   2.0\n",
       "'Little Billy' Rhodes       1926   1.0\n",
       "'Pook Diesel' Paul Watson   2007   1.0\n",
       "...                          ...   ...\n",
       "Zygmunt H?bner              1967   1.0\n",
       "Zygmunt Kestowicz           3915   2.0\n",
       "Zygmunt Malanowicz          9872   5.0\n",
       "Zygmunt Modzelewski         1926   1.0\n",
       "Zygmunt Turkow              1937   1.0\n",
       "\n",
       "[55238 rows x 2 columns]"
      ]
     },
     "execution_count": 32,
     "metadata": {},
     "output_type": "execute_result"
    }
   ],
   "source": [
    "# List the 10 actors/actresses that have the most leading roles (n=1) since the 1990's.\n",
    "\n",
    "# create another data frame called ninety that will constains only the flime since 1990's\n",
    "ninety = cast.loc[(cast['year'] >= 1990)]\n",
    "\n",
    "ninety_n = cast.loc[(cast['n'] == 1)]\n",
    "\n",
    "ninety_n.groupby('name').sum()"
   ]
  }
 ],
 "metadata": {
  "kernelspec": {
   "display_name": "Python 3",
   "language": "python",
   "name": "python3"
  },
  "language_info": {
   "codemirror_mode": {
    "name": "ipython",
    "version": 3
   },
   "file_extension": ".py",
   "mimetype": "text/x-python",
   "name": "python",
   "nbconvert_exporter": "python",
   "pygments_lexer": "ipython3",
   "version": "3.8.5"
  }
 },
 "nbformat": 4,
 "nbformat_minor": 4
}
